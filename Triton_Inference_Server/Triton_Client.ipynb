{
 "cells": [
  {
   "cell_type": "code",
   "execution_count": null,
   "id": "5cbaa367",
   "metadata": {},
   "outputs": [],
   "source": [
    "import matplotlib.pyplot as plt\n",
    "import numpy as np\n",
    "import time\n",
    "import tritonclient\n",
    "import tritonclient.http as httpclient\n",
    "from tritonclient.utils import triton_to_np_dtype"
   ]
  },
  {
   "cell_type": "markdown",
   "id": "868e8b89",
   "metadata": {},
   "source": [
    "## Check the Model Status"
   ]
  },
  {
   "cell_type": "code",
   "execution_count": null,
   "id": "3eb4d9ad",
   "metadata": {},
   "outputs": [],
   "source": [
    "model_name = 'endo_seg'\n",
    "!curl http://10.19.104.11:7000/v2/models/$MODEL_NAME/versions/1/stats"
   ]
  },
  {
   "cell_type": "markdown",
   "id": "b375718a",
   "metadata": {},
   "source": [
    "## Execute Inference Service"
   ]
  },
  {
   "cell_type": "code",
   "execution_count": null,
   "id": "1e57027b",
   "metadata": {},
   "outputs": [],
   "source": [
    "import monai\n",
    "\n",
    "client = httpclient\n",
    "client_inferer = client.InferenceServerClient(url='10.19.104.11:7000', verbose=0)\n",
    "\n",
    "def infer(data, model_name, input_name, output_name, priority=0):\n",
    "    inputs = [client.InferInput(input_name, data.shape, 'FP32')]\n",
    "    inputs[0].set_data_from_numpy(data)\n",
    "    outputs = [client.InferRequestedOutput(output_name, class_count=0)]\n",
    "    result = client_inferer.infer(\n",
    "            model_name=model_name,\n",
    "            inputs=inputs, \n",
    "            request_id=str(1),\n",
    "            model_version='1',\n",
    "            outputs=outputs,\n",
    "            priority=priority)\n",
    "    return result"
   ]
  },
  {
   "cell_type": "markdown",
   "id": "ad842ab9",
   "metadata": {},
   "source": [
    "- Load image"
   ]
  },
  {
   "cell_type": "code",
   "execution_count": null,
   "id": "a62fb133",
   "metadata": {},
   "outputs": [],
   "source": [
    "data = {'img':'./sample.jpg'}\n",
    "spatial_size = (256, 256)\n",
    "trans = monai.transforms.Compose([monai.transforms.LoadImaged('img'), \n",
    "                                  monai.transforms.EnsureChannelFirstd('img'),\n",
    "                                  monai.transforms.Resized('img', spatial_size=spatial_size, mode='area'),\n",
    "                                  monai.transforms.NormalizeIntensityd('img'),\n",
    "                                  monai.transforms.EnsureTyped('img', data_type='numpy')])\n",
    "post_trans = monai.transforms.AsDiscrete(threshold=0.5)\n",
    "data = trans(data)\n",
    "data['img'].shape"
   ]
  },
  {
   "cell_type": "code",
   "execution_count": null,
   "id": "0035b965",
   "metadata": {},
   "outputs": [],
   "source": [
    "# Batching\n",
    "batch_size = 32\n",
    "inputs = np.array([data['img'] for i in range(batch_size)])\n",
    "inputs.shape"
   ]
  },
  {
   "cell_type": "markdown",
   "id": "1cb0a576",
   "metadata": {},
   "source": [
    "- Setup"
   ]
  },
  {
   "cell_type": "code",
   "execution_count": null,
   "id": "81607b97",
   "metadata": {},
   "outputs": [],
   "source": [
    "input_name = 'input.1'\n",
    "output_name = '495'"
   ]
  },
  {
   "cell_type": "markdown",
   "id": "af007c61",
   "metadata": {},
   "source": [
    "- Inference"
   ]
  },
  {
   "cell_type": "code",
   "execution_count": null,
   "id": "66ca5fd1",
   "metadata": {},
   "outputs": [],
   "source": [
    "result = infer(inputs, model_name, input_name, output_name)\n",
    "result = post_trans(result.as_numpy(output_name))\n",
    "result.shape"
   ]
  },
  {
   "cell_type": "code",
   "execution_count": null,
   "id": "59623556",
   "metadata": {},
   "outputs": [],
   "source": [
    "plt.figure(figsize=(10, 5))\n",
    "plt.subplot(121)\n",
    "plt.imshow(inputs[0].transpose([1, 2, 0]))\n",
    "plt.subplot(122)\n",
    "plt.imshow(result[0, 0], cmap='gray')"
   ]
  },
  {
   "cell_type": "markdown",
   "id": "74e136ce",
   "metadata": {},
   "source": [
    "## Exercise\n",
    "Simulate clinical usage! The link below contains some endoscopy videos. Please do inference on the videos frame by frame, and show the segmentation result runtime.\n",
    "- Link: http://www.depeca.uah.es/colonoscopy_dataset/"
   ]
  },
  {
   "cell_type": "code",
   "execution_count": null,
   "id": "ae654e1c",
   "metadata": {},
   "outputs": [],
   "source": []
  }
 ],
 "metadata": {
  "kernelspec": {
   "display_name": "Python 3 (ipykernel)",
   "language": "python",
   "name": "python3"
  },
  "language_info": {
   "codemirror_mode": {
    "name": "ipython",
    "version": 3
   },
   "file_extension": ".py",
   "mimetype": "text/x-python",
   "name": "python",
   "nbconvert_exporter": "python",
   "pygments_lexer": "ipython3",
   "version": "3.8.13"
  }
 },
 "nbformat": 4,
 "nbformat_minor": 5
}
