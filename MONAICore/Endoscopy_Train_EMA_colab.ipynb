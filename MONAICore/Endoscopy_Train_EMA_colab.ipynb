{
  "cells": [
    {
      "cell_type": "markdown",
      "id": "9fd45c0a",
      "metadata": {
        "id": "9fd45c0a"
      },
      "source": [
        "API Reference: https://docs.monai.io/en/stable/api.html"
      ]
    },
    {
      "cell_type": "code",
      "source": [
        "!nvidia-smi"
      ],
      "metadata": {
        "id": "NQmbL8dkOl9s",
        "outputId": "ddae7c4e-6294-4680-dfa7-c354bf284b56",
        "colab": {
          "base_uri": "https://localhost:8080/"
        }
      },
      "id": "NQmbL8dkOl9s",
      "execution_count": null,
      "outputs": [
        {
          "output_type": "stream",
          "name": "stdout",
          "text": [
            "Tue Nov  8 09:32:56 2022       \n",
            "+-----------------------------------------------------------------------------+\n",
            "| NVIDIA-SMI 460.32.03    Driver Version: 460.32.03    CUDA Version: 11.2     |\n",
            "|-------------------------------+----------------------+----------------------+\n",
            "| GPU  Name        Persistence-M| Bus-Id        Disp.A | Volatile Uncorr. ECC |\n",
            "| Fan  Temp  Perf  Pwr:Usage/Cap|         Memory-Usage | GPU-Util  Compute M. |\n",
            "|                               |                      |               MIG M. |\n",
            "|===============================+======================+======================|\n",
            "|   0  Tesla T4            Off  | 00000000:00:04.0 Off |                    0 |\n",
            "| N/A   59C    P8    10W /  70W |      0MiB / 15109MiB |      0%      Default |\n",
            "|                               |                      |                  N/A |\n",
            "+-------------------------------+----------------------+----------------------+\n",
            "                                                                               \n",
            "+-----------------------------------------------------------------------------+\n",
            "| Processes:                                                                  |\n",
            "|  GPU   GI   CI        PID   Type   Process name                  GPU Memory |\n",
            "|        ID   ID                                                   Usage      |\n",
            "|=============================================================================|\n",
            "|  No running processes found                                                 |\n",
            "+-----------------------------------------------------------------------------+\n"
          ]
        }
      ]
    },
    {
      "cell_type": "code",
      "source": [
        "!pip install monai==0.9.1"
      ],
      "metadata": {
        "id": "nEv0oaNDNgRo",
        "outputId": "6c260070-549f-44c7-ecbf-656695f6a7c3",
        "colab": {
          "base_uri": "https://localhost:8080/"
        }
      },
      "id": "nEv0oaNDNgRo",
      "execution_count": null,
      "outputs": [
        {
          "output_type": "stream",
          "name": "stdout",
          "text": [
            "Looking in indexes: https://pypi.org/simple, https://us-python.pkg.dev/colab-wheels/public/simple/\n",
            "Requirement already satisfied: monai==0.9.1 in /usr/local/lib/python3.7/dist-packages (0.9.1)\n",
            "Requirement already satisfied: torch>=1.7 in /usr/local/lib/python3.7/dist-packages (from monai==0.9.1) (1.12.1+cu113)\n",
            "Requirement already satisfied: numpy>=1.17 in /usr/local/lib/python3.7/dist-packages (from monai==0.9.1) (1.21.6)\n",
            "Requirement already satisfied: typing-extensions in /usr/local/lib/python3.7/dist-packages (from torch>=1.7->monai==0.9.1) (4.1.1)\n"
          ]
        }
      ]
    },
    {
      "cell_type": "code",
      "execution_count": null,
      "id": "64df2953",
      "metadata": {
        "id": "64df2953"
      },
      "outputs": [],
      "source": [
        "import torch\n",
        "import monai\n",
        "import matplotlib.pyplot as plt\n",
        "import numpy as np\n",
        "import os"
      ]
    },
    {
      "cell_type": "markdown",
      "id": "80f9b7a1",
      "metadata": {
        "id": "80f9b7a1"
      },
      "source": [
        "## Data"
      ]
    },
    {
      "cell_type": "code",
      "source": [
        "!wget https://datasets.simula.no/downloads/kvasir-seg.zip\n",
        "!unzip kvasir-seg.zip"
      ],
      "metadata": {
        "id": "h5pk-RIQMya6",
        "outputId": "1b1e6905-4091-4061-ea32-709d0008cfcf",
        "colab": {
          "base_uri": "https://localhost:8080/"
        }
      },
      "id": "h5pk-RIQMya6",
      "execution_count": null,
      "outputs": [
        {
          "output_type": "stream",
          "name": "stdout",
          "text": [
            "--2022-11-08 09:33:01--  https://datasets.simula.no/downloads/kvasir-seg.zip\n",
            "Resolving datasets.simula.no (datasets.simula.no)... 128.39.36.14\n",
            "Connecting to datasets.simula.no (datasets.simula.no)|128.39.36.14|:443... connected.\n",
            "HTTP request sent, awaiting response... 200 OK\n",
            "Length: 46227172 (44M) [application/zip]\n",
            "Saving to: ‘kvasir-seg.zip.1’\n",
            "\n",
            "kvasir-seg.zip.1    100%[===================>]  44.08M  9.77MB/s    in 4.7s    \n",
            "\n",
            "2022-11-08 09:33:07 (9.32 MB/s) - ‘kvasir-seg.zip.1’ saved [46227172/46227172]\n",
            "\n",
            "Archive:  kvasir-seg.zip\n",
            "replace Kvasir-SEG/kavsir_bboxes.json? [y]es, [n]o, [A]ll, [N]one, [r]ename: "
          ]
        }
      ]
    },
    {
      "cell_type": "code",
      "source": [
        "path_img = './Kvasir-SEG/images/'\n",
        "path_msk = './Kvasir-SEG/masks/'\n",
        "fnames_img = [f for f in os.listdir(path_img) if '.jpg' in f]\n",
        "datalist = []\n",
        "for fname in fnames_img:\n",
        "    data = {'img': path_img+fname, 'seg': path_msk+fname}\n",
        "    datalist.append(data)\n",
        "datalist[:3]"
      ],
      "metadata": {
        "id": "wRVZWa7VNH7D",
        "outputId": "9e64fc8c-6bd1-4e41-e1d8-169f689dd95c",
        "colab": {
          "base_uri": "https://localhost:8080/"
        }
      },
      "id": "wRVZWa7VNH7D",
      "execution_count": null,
      "outputs": [
        {
          "output_type": "execute_result",
          "data": {
            "text/plain": [
              "[{'img': './Kvasir-SEG/images/cju31rb7vb6110801p9rhacuw.jpg',\n",
              "  'seg': './Kvasir-SEG/masks/cju31rb7vb6110801p9rhacuw.jpg'},\n",
              " {'img': './Kvasir-SEG/images/cju2srvy5440s0801y1ba9akr.jpg',\n",
              "  'seg': './Kvasir-SEG/masks/cju2srvy5440s0801y1ba9akr.jpg'},\n",
              " {'img': './Kvasir-SEG/images/cju8a3nhbpwnb0850d37fo2na.jpg',\n",
              "  'seg': './Kvasir-SEG/masks/cju8a3nhbpwnb0850d37fo2na.jpg'}]"
            ]
          },
          "metadata": {},
          "execution_count": 12
        }
      ]
    },
    {
      "cell_type": "code",
      "execution_count": null,
      "id": "0bfd9f23",
      "metadata": {
        "id": "0bfd9f23",
        "outputId": "60db1242-e92c-4a33-8576-36c1cb3b537c",
        "colab": {
          "base_uri": "https://localhost:8080/"
        }
      },
      "outputs": [
        {
          "output_type": "execute_result",
          "data": {
            "text/plain": [
              "[{'img': './Kvasir-SEG/images/cjyztzaqtrv430848l8xgcerw.jpg',\n",
              "  'seg': './Kvasir-SEG/masks/cjyztzaqtrv430848l8xgcerw.jpg'},\n",
              " {'img': './Kvasir-SEG/images/cju2zy1e49pqk0878t6ncqn12.jpg',\n",
              "  'seg': './Kvasir-SEG/masks/cju2zy1e49pqk0878t6ncqn12.jpg'},\n",
              " {'img': './Kvasir-SEG/images/cju2osuru0ki00855txo0n3uu.jpg',\n",
              "  'seg': './Kvasir-SEG/masks/cju2osuru0ki00855txo0n3uu.jpg'}]"
            ]
          },
          "metadata": {},
          "execution_count": 13
        }
      ],
      "source": [
        "# Shuffle\n",
        "np.random.shuffle(datalist)\n",
        "datalist[:3]"
      ]
    },
    {
      "cell_type": "code",
      "execution_count": null,
      "id": "a5c28a6d",
      "metadata": {
        "id": "a5c28a6d"
      },
      "outputs": [],
      "source": [
        "# Split the datalist to train and validation\n",
        "data_train = datalist[:800]\n",
        "data_val = datalist[800:]"
      ]
    },
    {
      "cell_type": "markdown",
      "id": "2cff4ae0",
      "metadata": {
        "id": "2cff4ae0"
      },
      "source": [
        "## Transforms"
      ]
    },
    {
      "cell_type": "code",
      "execution_count": null,
      "id": "6ccac8fc",
      "metadata": {
        "id": "6ccac8fc"
      },
      "outputs": [],
      "source": [
        "keys = ['img', 'seg']\n",
        "spatial_size = (256, 256)\n",
        "prob = 0.7\n",
        "\n",
        "def convert_mask(mask):\n",
        "    mask = mask[0]>100\n",
        "    return mask.astype('int')[None, ...]\n",
        "\n",
        "trans = monai.transforms.Compose([monai.transforms.LoadImaged(keys), # I/O\n",
        "                                  monai.transforms.EnsureChannelFirstd(keys), # Pre-processing\n",
        "                                  monai.transforms.Lambdad(keys='seg', func=convert_mask), # Pre-processing\n",
        "                                  monai.transforms.ToDeviced(keys, device='cuda'), # Pre-processing\n",
        "                                  monai.transforms.Resized(keys, spatial_size=spatial_size, mode=['area', 'nearest']), # Pre-processing\n",
        "                                  monai.transforms.NormalizeIntensityd(keys='img'), # Pre-processing\n",
        "                                  monai.transforms.RandAdjustContrastd(keys='img', gamma=(0.8, 3.0), prob=prob), # Augmentation\n",
        "                                  monai.transforms.RandFlipd(keys, prob=prob), # Augmentation\n",
        "                                  monai.transforms.RandCoarseDropoutd(keys, holes=1, max_holes=10,\n",
        "                                                                      spatial_size=(32, 32), max_spatial_size=(96, 96),\n",
        "                                                                      dropout_holes=True, fill_value=0, prob=prob) # Augmentation\n",
        "                                 ])\n",
        "val_trans = monai.transforms.Compose([monai.transforms.LoadImaged(keys), \n",
        "                                      monai.transforms.EnsureChannelFirstd(keys),\n",
        "                                      monai.transforms.Lambdad(keys='seg', func=convert_mask),\n",
        "                                      monai.transforms.ToDeviced(keys, device='cuda'),\n",
        "                                      monai.transforms.Resized(keys, spatial_size=spatial_size, mode=['area', 'nearest']),\n",
        "                                      monai.transforms.NormalizeIntensityd(keys='img')\n",
        "                                     ])\n",
        "\n",
        "post_trans = monai.transforms.AsDiscrete(threshold=0.5) # Thresholding"
      ]
    },
    {
      "cell_type": "code",
      "execution_count": null,
      "id": "55b25646",
      "metadata": {
        "id": "55b25646",
        "outputId": "59eb07ae-adae-4550-8ba0-b7e1e182d603",
        "colab": {
          "base_uri": "https://localhost:8080/",
          "height": 289
        }
      },
      "outputs": [
        {
          "output_type": "stream",
          "name": "stderr",
          "text": [
            "WARNING:matplotlib.image:Clipping input data to the valid range for imshow with RGB data ([0..1] for floats or [0..255] for integers).\n"
          ]
        },
        {
          "output_type": "display_data",
          "data": {
            "text/plain": [
              "<Figure size 576x288 with 2 Axes>"
            ],
            "image/png": "[encoded data removed]"
          },
          "metadata": {
            "needs_background": "light"
          }
        },
        {
          "output_type": "execute_result",
          "data": {
            "text/plain": [
              "((3, 256, 256), (1, 256, 256))"
            ]
          },
          "metadata": {},
          "execution_count": 9
        }
      ],
      "source": [
        "test = trans(data_train[0])\n",
        "plt.figure(figsize=(8, 4))\n",
        "plt.subplot(121)\n",
        "plt.imshow(test['img'].cpu().numpy().transpose([1, 2, 0]))\n",
        "plt.subplot(122)\n",
        "plt.imshow(test['seg'][0].cpu(), cmap='gray')\n",
        "plt.show()\n",
        "test['img'].shape, test['seg'].shape"
      ]
    },
    {
      "cell_type": "markdown",
      "id": "67b21efa",
      "metadata": {
        "id": "67b21efa"
      },
      "source": [
        "## Dataset and Dataloader"
      ]
    },
    {
      "cell_type": "code",
      "execution_count": null,
      "id": "f4e8f997",
      "metadata": {
        "id": "f4e8f997",
        "outputId": "a4618638-2bac-48e7-a767-17e0a6dc83ea",
        "colab": {
          "base_uri": "https://localhost:8080/"
        }
      },
      "outputs": [
        {
          "output_type": "stream",
          "name": "stderr",
          "text": [
            "Loading dataset: 100%|██████████| 800/800 [00:21<00:00, 37.29it/s]\n",
            "Loading dataset: 100%|██████████| 200/200 [00:05<00:00, 35.09it/s]\n"
          ]
        }
      ],
      "source": [
        "batch_size = 32\n",
        "\n",
        "ds_train = monai.data.CacheDataset(data_train, transform=trans)\n",
        "dl_train = torch.utils.data.DataLoader(ds_train, batch_size=batch_size)\n",
        "\n",
        "ds_val = monai.data.CacheDataset(data_val, transform=val_trans)\n",
        "dl_val = torch.utils.data.DataLoader(ds_val, batch_size=batch_size)"
      ]
    },
    {
      "cell_type": "markdown",
      "id": "afbb765f",
      "metadata": {
        "id": "afbb765f"
      },
      "source": [
        "## Network, loss and optimizer"
      ]
    },
    {
      "cell_type": "code",
      "execution_count": null,
      "id": "8e2f8858",
      "metadata": {
        "id": "8e2f8858",
        "outputId": "77db77d0-7742-4c67-b95f-53573ff35708",
        "colab": {
          "base_uri": "https://localhost:8080/"
        }
      },
      "outputs": [
        {
          "output_type": "execute_result",
          "data": {
            "text/plain": [
              "(1, 1, 256, 256)"
            ]
          },
          "metadata": {},
          "execution_count": 11
        }
      ],
      "source": [
        "device = torch.device(\"cuda\")\n",
        "\n",
        "net = monai.networks.nets.SegResNet(\n",
        "    spatial_dims=2,\n",
        "    in_channels=3,\n",
        "    out_channels=1,\n",
        "    dropout_prob=.5\n",
        ").to(device)\n",
        "\n",
        "net(test['img'][None, ...]).shape"
      ]
    },
    {
      "cell_type": "code",
      "execution_count": null,
      "id": "b5263976",
      "metadata": {
        "id": "b5263976"
      },
      "outputs": [],
      "source": [
        "class EMA():\n",
        "    def __init__(self, model, decay):\n",
        "        self.model = model\n",
        "        self.decay = decay\n",
        "        self.shadow = {}\n",
        "        self.backup = {}\n",
        "\n",
        "    def register(self):\n",
        "        for name, param in self.model.named_parameters():\n",
        "            if param.requires_grad:\n",
        "                self.shadow[name] = param.data.clone()\n",
        "\n",
        "    def update(self):\n",
        "        for name, param in self.model.named_parameters():\n",
        "            if param.requires_grad:\n",
        "                assert name in self.shadow, name\n",
        "                new_average = (1.0 - self.decay) * param.data + self.decay * self.shadow[name]\n",
        "                self.shadow[name] = new_average.clone()\n",
        "\n",
        "    def apply_shadow(self):\n",
        "        for name, param in self.model.named_parameters():\n",
        "            if param.requires_grad:\n",
        "                assert name in self.shadow\n",
        "                self.backup[name] = param.data\n",
        "                param.data = self.shadow[name]\n",
        "\n",
        "    def restore(self):\n",
        "        for name, param in self.model.named_parameters():\n",
        "            if param.requires_grad:\n",
        "                assert name in self.backup\n",
        "                param.data = self.backup[name]\n",
        "        self.backup = {}\n",
        "\n",
        "loss_function = monai.losses.DiceLoss(sigmoid=True)\n",
        "optimizer = torch.optim.Adam(net.parameters(), 5e-4)\n",
        "dice_metric = monai.metrics.DiceMetric(include_background=False, reduction=\"mean\")\n",
        "ema = EMA(net, 0.99)\n",
        "ema.register()"
      ]
    },
    {
      "cell_type": "markdown",
      "id": "279bde3a",
      "metadata": {
        "id": "279bde3a"
      },
      "source": [
        "## Train\n",
        "Classic PyTorch for-loop"
      ]
    },
    {
      "cell_type": "code",
      "source": [
        "!mkdir checkpoints"
      ],
      "metadata": {
        "id": "qeNVYhOvPNdY"
      },
      "id": "qeNVYhOvPNdY",
      "execution_count": null,
      "outputs": []
    },
    {
      "cell_type": "code",
      "execution_count": null,
      "id": "6d6cd824",
      "metadata": {
        "scrolled": true,
        "id": "6d6cd824",
        "outputId": "1eb9d355-03b6-46c1-de86-0886548aa062",
        "colab": {
          "base_uri": "https://localhost:8080/"
        }
      },
      "outputs": [
        {
          "output_type": "stream",
          "name": "stdout",
          "text": [
            "Epoch: 1/200\n",
            "  Train_loss: 0.8339\n",
            "  Val_loss: 6.0786 , Val_dice: 0.3749, Val_dice_ema: 0.2145\n",
            "Epoch: 2/200\n",
            "  Train_loss: 0.8263\n",
            "  Val_loss: 5.9315 , Val_dice: 0.3987, Val_dice_ema: 0.3292\n",
            "Epoch: 3/200\n",
            "  Train_loss: 0.8164\n",
            "  Val_loss: 5.8706 , Val_dice: 0.4155, Val_dice_ema: 0.3739\n",
            "Epoch: 4/200\n",
            "  Train_loss: 0.7994\n",
            "  Val_loss: 5.8124 , Val_dice: 0.4179, Val_dice_ema: 0.4014\n",
            "Epoch: 5/200\n",
            "  Train_loss: 0.7995\n",
            "  Val_loss: 5.7560 , Val_dice: 0.4436, Val_dice_ema: 0.4202\n",
            "Epoch: 6/200\n",
            "  Train_loss: 0.7882\n",
            "  Val_loss: 5.6939 , Val_dice: 0.4625, Val_dice_ema: 0.4314\n",
            "Epoch: 7/200\n",
            "  Train_loss: 0.7853\n",
            "  Val_loss: 5.6256 , Val_dice: 0.4713, Val_dice_ema: 0.4414\n",
            "Epoch: 8/200\n",
            "  Train_loss: 0.7684\n",
            "  Val_loss: 5.5522 , Val_dice: 0.4761, Val_dice_ema: 0.4531\n",
            "Epoch: 9/200\n",
            "  Train_loss: 0.7611\n",
            "  Val_loss: 5.4776 , Val_dice: 0.4793, Val_dice_ema: 0.4640\n",
            "Epoch: 10/200\n",
            "  Train_loss: 0.7559\n",
            "  Val_loss: 5.4084 , Val_dice: 0.4801, Val_dice_ema: 0.4714\n",
            "Epoch: 11/200\n",
            "  Train_loss: 0.7532\n",
            "  Val_loss: 5.3362 , Val_dice: 0.4737, Val_dice_ema: 0.4751\n",
            "Epoch: 12/200\n",
            "  Train_loss: 0.7437\n",
            "  Val_loss: 5.2511 , Val_dice: 0.4781, Val_dice_ema: 0.4818\n",
            "Epoch: 13/200\n",
            "  Train_loss: 0.7390\n",
            "  Val_loss: 5.1622 , Val_dice: 0.4913, Val_dice_ema: 0.4875\n",
            "Epoch: 14/200\n",
            "  Train_loss: 0.7193\n",
            "  Val_loss: 5.0768 , Val_dice: 0.4904, Val_dice_ema: 0.4923\n",
            "Epoch: 15/200\n",
            "  Train_loss: 0.7142\n",
            "  Val_loss: 4.9976 , Val_dice: 0.4866, Val_dice_ema: 0.4959\n",
            "Epoch: 16/200\n",
            "  Train_loss: 0.7069\n",
            "  Val_loss: 4.9073 , Val_dice: 0.5071, Val_dice_ema: 0.5003\n",
            "Epoch: 17/200\n",
            "  Train_loss: 0.6911\n",
            "  Val_loss: 4.8337 , Val_dice: 0.5026, Val_dice_ema: 0.5040\n",
            "Epoch: 18/200\n",
            "  Train_loss: 0.6966\n",
            "  Val_loss: 4.7593 , Val_dice: 0.5118, Val_dice_ema: 0.5071\n",
            "Epoch: 19/200\n",
            "  Train_loss: 0.6757\n",
            "  Val_loss: 4.6803 , Val_dice: 0.5193, Val_dice_ema: 0.5113\n",
            "Epoch: 20/200\n",
            "  Train_loss: 0.6857\n",
            "  Val_loss: 4.6102 , Val_dice: 0.5047, Val_dice_ema: 0.5161\n",
            "Epoch: 21/200\n",
            "  Train_loss: 0.6773\n",
            "  Val_loss: 4.5259 , Val_dice: 0.5253, Val_dice_ema: 0.5211\n",
            "Epoch: 22/200\n",
            "  Train_loss: 0.6586\n",
            "  Val_loss: 4.4527 , Val_dice: 0.5196, Val_dice_ema: 0.5257\n",
            "Epoch: 23/200\n",
            "  Train_loss: 0.6484\n",
            "  Val_loss: 4.3747 , Val_dice: 0.5343, Val_dice_ema: 0.5295\n",
            "Epoch: 24/200\n",
            "  Train_loss: 0.6347\n",
            "  Val_loss: 4.3054 , Val_dice: 0.5383, Val_dice_ema: 0.5340\n",
            "Epoch: 25/200\n",
            "  Train_loss: 0.6372\n",
            "  Val_loss: 4.2263 , Val_dice: 0.5452, Val_dice_ema: 0.5384\n",
            "Epoch: 26/200\n",
            "  Train_loss: 0.6436\n",
            "  Val_loss: 4.1551 , Val_dice: 0.5541, Val_dice_ema: 0.5434\n",
            "Epoch: 27/200\n",
            "  Train_loss: 0.6312\n",
            "  Val_loss: 4.0613 , Val_dice: 0.5836, Val_dice_ema: 0.5512\n",
            "Epoch: 28/200\n",
            "  Train_loss: 0.6149\n",
            "  Val_loss: 3.9931 , Val_dice: 0.5741, Val_dice_ema: 0.5609\n",
            "Epoch: 29/200\n",
            "  Train_loss: 0.6161\n",
            "  Val_loss: 3.9013 , Val_dice: 0.5914, Val_dice_ema: 0.5696\n",
            "Epoch: 30/200\n",
            "  Train_loss: 0.6045\n",
            "  Val_loss: 3.8358 , Val_dice: 0.5801, Val_dice_ema: 0.5791\n",
            "Epoch: 31/200\n",
            "  Train_loss: 0.6025\n",
            "  Val_loss: 3.7562 , Val_dice: 0.6005, Val_dice_ema: 0.5852\n",
            "Epoch: 32/200\n",
            "  Train_loss: 0.5923\n",
            "  Val_loss: 3.6850 , Val_dice: 0.5818, Val_dice_ema: 0.5944\n",
            "Epoch: 33/200\n",
            "  Train_loss: 0.5868\n",
            "  Val_loss: 3.6387 , Val_dice: 0.5689, Val_dice_ema: 0.6011\n",
            "Epoch: 34/200\n",
            "  Train_loss: 0.5801\n",
            "  Val_loss: 3.4926 , Val_dice: 0.6266, Val_dice_ema: 0.6138\n",
            "Epoch: 35/200\n",
            "  Train_loss: 0.5734\n",
            "  Val_loss: 3.4196 , Val_dice: 0.6431, Val_dice_ema: 0.6235\n",
            "Epoch: 36/200\n",
            "  Train_loss: 0.5490\n",
            "  Val_loss: 3.3280 , Val_dice: 0.6608, Val_dice_ema: 0.6335\n",
            "Epoch: 37/200\n",
            "  Train_loss: 0.5581\n",
            "  Val_loss: 3.2589 , Val_dice: 0.6556, Val_dice_ema: 0.6450\n",
            "Epoch: 38/200\n",
            "  Train_loss: 0.5323\n",
            "  Val_loss: 3.2085 , Val_dice: 0.6549, Val_dice_ema: 0.6524\n",
            "Epoch: 39/200\n",
            "  Train_loss: 0.5242\n",
            "  Val_loss: 3.1501 , Val_dice: 0.6687, Val_dice_ema: 0.6571\n",
            "Epoch: 40/200\n",
            "  Train_loss: 0.5246\n",
            "  Val_loss: 3.0875 , Val_dice: 0.6610, Val_dice_ema: 0.6659\n",
            "Epoch: 41/200\n",
            "  Train_loss: 0.5208\n",
            "  Val_loss: 3.0249 , Val_dice: 0.6704, Val_dice_ema: 0.6741\n",
            "Epoch: 42/200\n",
            "  Train_loss: 0.5066\n",
            "  Val_loss: 2.9661 , Val_dice: 0.6782, Val_dice_ema: 0.6813\n",
            "Epoch: 43/200\n",
            "  Train_loss: 0.5163\n",
            "  Val_loss: 2.9107 , Val_dice: 0.6798, Val_dice_ema: 0.6864\n",
            "Epoch: 44/200\n",
            "  Train_loss: 0.5195\n",
            "  Val_loss: 2.8805 , Val_dice: 0.6795, Val_dice_ema: 0.6918\n",
            "Epoch: 45/200\n",
            "  Train_loss: 0.4966\n",
            "  Val_loss: 2.8121 , Val_dice: 0.6838, Val_dice_ema: 0.6963\n",
            "Epoch: 46/200\n",
            "  Train_loss: 0.4811\n",
            "  Val_loss: 2.7112 , Val_dice: 0.7178, Val_dice_ema: 0.7037\n",
            "Epoch: 47/200\n",
            "  Train_loss: 0.4856\n",
            "  Val_loss: 2.6788 , Val_dice: 0.7062, Val_dice_ema: 0.7092\n",
            "Epoch: 48/200\n",
            "  Train_loss: 0.4834\n",
            "  Val_loss: 2.6086 , Val_dice: 0.7212, Val_dice_ema: 0.7141\n",
            "Epoch: 49/200\n",
            "  Train_loss: 0.4675\n",
            "  Val_loss: 2.5680 , Val_dice: 0.7206, Val_dice_ema: 0.7187\n",
            "Epoch: 50/200\n",
            "  Train_loss: 0.4753\n",
            "  Val_loss: 2.5368 , Val_dice: 0.7054, Val_dice_ema: 0.7238\n",
            "Epoch: 51/200\n",
            "  Train_loss: 0.4753\n",
            "  Val_loss: 2.4829 , Val_dice: 0.7350, Val_dice_ema: 0.7280\n",
            "Epoch: 52/200\n",
            "  Train_loss: 0.4604\n",
            "  Val_loss: 2.4582 , Val_dice: 0.7168, Val_dice_ema: 0.7333\n",
            "Epoch: 53/200\n",
            "  Train_loss: 0.4663\n",
            "  Val_loss: 2.4234 , Val_dice: 0.7202, Val_dice_ema: 0.7351\n",
            "Epoch: 54/200\n",
            "  Train_loss: 0.4401\n",
            "  Val_loss: 2.3616 , Val_dice: 0.7457, Val_dice_ema: 0.7411\n",
            "Epoch: 55/200\n",
            "  Train_loss: 0.4730\n",
            "  Val_loss: 2.3172 , Val_dice: 0.7369, Val_dice_ema: 0.7462\n",
            "Epoch: 56/200\n",
            "  Train_loss: 0.4471\n",
            "  Val_loss: 2.2935 , Val_dice: 0.7305, Val_dice_ema: 0.7498\n",
            "Epoch: 57/200\n",
            "  Train_loss: 0.4421\n",
            "  Val_loss: 2.2640 , Val_dice: 0.7275, Val_dice_ema: 0.7535\n",
            "Epoch: 58/200\n",
            "  Train_loss: 0.4441\n",
            "  Val_loss: 2.2496 , Val_dice: 0.7219, Val_dice_ema: 0.7545\n",
            "Epoch: 59/200\n",
            "  Train_loss: 0.4574\n",
            "  Val_loss: 2.2250 , Val_dice: 0.7447, Val_dice_ema: 0.7529\n",
            "Epoch: 60/200\n",
            "  Train_loss: 0.4454\n",
            "  Val_loss: 2.1915 , Val_dice: 0.7322, Val_dice_ema: 0.7574\n",
            "Epoch: 61/200\n",
            "  Train_loss: 0.4405\n",
            "  Val_loss: 2.1910 , Val_dice: 0.7382, Val_dice_ema: 0.7560\n",
            "Epoch: 62/200\n",
            "  Train_loss: 0.4302\n",
            "  Val_loss: 2.1640 , Val_dice: 0.7454, Val_dice_ema: 0.7576\n",
            "Epoch: 63/200\n",
            "  Train_loss: 0.4325\n",
            "  Val_loss: 2.1582 , Val_dice: 0.7461, Val_dice_ema: 0.7587\n",
            "Epoch: 64/200\n",
            "  Train_loss: 0.4067\n",
            "  Val_loss: 2.1426 , Val_dice: 0.7334, Val_dice_ema: 0.7621\n",
            "Epoch: 65/200\n",
            "  Train_loss: 0.4100\n",
            "  Val_loss: 2.0998 , Val_dice: 0.7438, Val_dice_ema: 0.7667\n",
            "Epoch: 66/200\n",
            "  Train_loss: 0.3980\n",
            "  Val_loss: 2.0877 , Val_dice: 0.7503, Val_dice_ema: 0.7682\n",
            "Epoch: 67/200\n",
            "  Train_loss: 0.4391\n",
            "  Val_loss: 2.0848 , Val_dice: 0.7471, Val_dice_ema: 0.7695\n",
            "Epoch: 68/200\n",
            "  Train_loss: 0.4086\n",
            "  Val_loss: 2.0580 , Val_dice: 0.7602, Val_dice_ema: 0.7715\n",
            "Epoch: 69/200\n",
            "  Train_loss: 0.4047\n",
            "  Val_loss: 2.0232 , Val_dice: 0.7605, Val_dice_ema: 0.7769\n",
            "Epoch: 70/200\n",
            "  Train_loss: 0.4237\n",
            "  Val_loss: 1.9881 , Val_dice: 0.7660, Val_dice_ema: 0.7797\n",
            "Epoch: 71/200\n",
            "  Train_loss: 0.4206\n",
            "  Val_loss: 1.9633 , Val_dice: 0.7541, Val_dice_ema: 0.7832\n",
            "Epoch: 72/200\n",
            "  Train_loss: 0.4049\n",
            "  Val_loss: 1.9630 , Val_dice: 0.7672, Val_dice_ema: 0.7837\n",
            "Epoch: 73/200\n",
            "  Train_loss: 0.4028\n",
            "  Val_loss: 1.9355 , Val_dice: 0.7760, Val_dice_ema: 0.7860\n",
            "Epoch: 74/200\n",
            "  Train_loss: 0.3924\n",
            "  Val_loss: 1.8914 , Val_dice: 0.7706, Val_dice_ema: 0.7890\n",
            "Epoch: 75/200\n",
            "  Train_loss: 0.4131\n",
            "  Val_loss: 1.8664 , Val_dice: 0.7734, Val_dice_ema: 0.7893\n",
            "Epoch: 76/200\n",
            "  Train_loss: 0.4112\n",
            "  Val_loss: 1.8480 , Val_dice: 0.7751, Val_dice_ema: 0.7913\n",
            "Epoch: 77/200\n",
            "  Train_loss: 0.4025\n",
            "  Val_loss: 1.8276 , Val_dice: 0.7719, Val_dice_ema: 0.7938\n",
            "Epoch: 78/200\n",
            "  Train_loss: 0.4068\n",
            "  Val_loss: 1.8392 , Val_dice: 0.7690, Val_dice_ema: 0.7942\n",
            "Epoch: 79/200\n",
            "  Train_loss: 0.4247\n",
            "  Val_loss: 1.8301 , Val_dice: 0.7599, Val_dice_ema: 0.7949\n",
            "Epoch: 80/200\n",
            "  Train_loss: 0.4034\n",
            "  Val_loss: 1.8184 , Val_dice: 0.7766, Val_dice_ema: 0.7956\n",
            "Epoch: 81/200\n",
            "  Train_loss: 0.3958\n",
            "  Val_loss: 1.7989 , Val_dice: 0.7796, Val_dice_ema: 0.7983\n",
            "Epoch: 82/200\n",
            "  Train_loss: 0.3966\n",
            "  Val_loss: 1.7827 , Val_dice: 0.7813, Val_dice_ema: 0.8001\n",
            "Epoch: 83/200\n",
            "  Train_loss: 0.3980\n",
            "  Val_loss: 1.7971 , Val_dice: 0.7703, Val_dice_ema: 0.7989\n",
            "Epoch: 84/200\n",
            "  Train_loss: 0.3748\n",
            "  Val_loss: 1.8154 , Val_dice: 0.7685, Val_dice_ema: 0.7950\n",
            "Epoch: 85/200\n",
            "  Train_loss: 0.4065\n",
            "  Val_loss: 1.8007 , Val_dice: 0.7717, Val_dice_ema: 0.7952\n",
            "Epoch: 86/200\n",
            "  Train_loss: 0.4168\n",
            "  Val_loss: 1.7770 , Val_dice: 0.7798, Val_dice_ema: 0.7971\n",
            "Epoch: 87/200\n",
            "  Train_loss: 0.4051\n",
            "  Val_loss: 1.7748 , Val_dice: 0.7841, Val_dice_ema: 0.7960\n",
            "Epoch: 88/200\n",
            "  Train_loss: 0.3913\n",
            "  Val_loss: 1.7628 , Val_dice: 0.7808, Val_dice_ema: 0.7980\n",
            "Epoch: 89/200\n",
            "  Train_loss: 0.3913\n",
            "  Val_loss: 1.7579 , Val_dice: 0.7889, Val_dice_ema: 0.7991\n",
            "Epoch: 90/200\n",
            "  Train_loss: 0.3946\n",
            "  Val_loss: 1.7721 , Val_dice: 0.7750, Val_dice_ema: 0.7985\n",
            "Epoch: 91/200\n",
            "  Train_loss: 0.3812\n",
            "  Val_loss: 1.7850 , Val_dice: 0.7659, Val_dice_ema: 0.7978\n",
            "Epoch: 92/200\n",
            "  Train_loss: 0.3681\n",
            "  Val_loss: 1.7569 , Val_dice: 0.7799, Val_dice_ema: 0.8003\n",
            "Epoch: 93/200\n",
            "  Train_loss: 0.3907\n",
            "  Val_loss: 1.7448 , Val_dice: 0.7780, Val_dice_ema: 0.8023\n",
            "Epoch: 94/200\n",
            "  Train_loss: 0.3862\n",
            "  Val_loss: 1.7463 , Val_dice: 0.7797, Val_dice_ema: 0.8016\n",
            "Epoch: 95/200\n",
            "  Train_loss: 0.3626\n",
            "  Val_loss: 1.7515 , Val_dice: 0.7740, Val_dice_ema: 0.8008\n",
            "Epoch: 96/200\n",
            "  Train_loss: 0.3740\n",
            "  Val_loss: 1.7532 , Val_dice: 0.7725, Val_dice_ema: 0.8004\n",
            "Epoch: 97/200\n",
            "  Train_loss: 0.3891\n",
            "  Val_loss: 1.7319 , Val_dice: 0.7898, Val_dice_ema: 0.8011\n",
            "Epoch: 98/200\n",
            "  Train_loss: 0.3626\n",
            "  Val_loss: 1.7057 , Val_dice: 0.8016, Val_dice_ema: 0.8041\n",
            "Epoch: 99/200\n",
            "  Train_loss: 0.3799\n",
            "  Val_loss: 1.7095 , Val_dice: 0.7778, Val_dice_ema: 0.8049\n",
            "Epoch: 100/200\n",
            "  Train_loss: 0.3747\n",
            "  Val_loss: 1.7116 , Val_dice: 0.7818, Val_dice_ema: 0.8045\n",
            "Epoch: 101/200\n",
            "  Train_loss: 0.3756\n",
            "  Val_loss: 1.7396 , Val_dice: 0.7607, Val_dice_ema: 0.8029\n",
            "Epoch: 102/200\n",
            "  Train_loss: 0.3878\n",
            "  Val_loss: 1.6980 , Val_dice: 0.8004, Val_dice_ema: 0.8041\n",
            "Epoch: 103/200\n",
            "  Train_loss: 0.3665\n",
            "  Val_loss: 1.7076 , Val_dice: 0.7878, Val_dice_ema: 0.8050\n",
            "Epoch: 104/200\n",
            "  Train_loss: 0.3799\n",
            "  Val_loss: 1.6897 , Val_dice: 0.7991, Val_dice_ema: 0.8072\n",
            "Epoch: 105/200\n",
            "  Train_loss: 0.3725\n",
            "  Val_loss: 1.6848 , Val_dice: 0.7948, Val_dice_ema: 0.8086\n",
            "Epoch: 106/200\n",
            "  Train_loss: 0.3684\n",
            "  Val_loss: 1.6713 , Val_dice: 0.7991, Val_dice_ema: 0.8091\n",
            "Epoch: 107/200\n",
            "  Train_loss: 0.3629\n",
            "  Val_loss: 1.6708 , Val_dice: 0.8008, Val_dice_ema: 0.8088\n",
            "Epoch: 108/200\n",
            "  Train_loss: 0.3745\n",
            "  Val_loss: 1.6934 , Val_dice: 0.7684, Val_dice_ema: 0.8092\n",
            "Epoch: 109/200\n",
            "  Train_loss: 0.3707\n",
            "  Val_loss: 1.6720 , Val_dice: 0.7757, Val_dice_ema: 0.8106\n",
            "Epoch: 110/200\n",
            "  Train_loss: 0.3820\n",
            "  Val_loss: 1.6822 , Val_dice: 0.7723, Val_dice_ema: 0.8099\n",
            "Epoch: 111/200\n",
            "  Train_loss: 0.3878\n",
            "  Val_loss: 1.6875 , Val_dice: 0.7894, Val_dice_ema: 0.8068\n",
            "Epoch: 112/200\n",
            "  Train_loss: 0.3533\n",
            "  Val_loss: 1.6636 , Val_dice: 0.7985, Val_dice_ema: 0.8083\n",
            "Epoch: 113/200\n",
            "  Train_loss: 0.3816\n",
            "  Val_loss: 1.6698 , Val_dice: 0.7984, Val_dice_ema: 0.8084\n",
            "Epoch: 114/200\n",
            "  Train_loss: 0.3399\n",
            "  Val_loss: 1.7030 , Val_dice: 0.7633, Val_dice_ema: 0.8071\n",
            "Epoch: 115/200\n",
            "  Train_loss: 0.3691\n",
            "  Val_loss: 1.6667 , Val_dice: 0.7954, Val_dice_ema: 0.8084\n",
            "Epoch: 116/200\n",
            "  Train_loss: 0.3847\n",
            "  Val_loss: 1.6510 , Val_dice: 0.7963, Val_dice_ema: 0.8097\n",
            "Epoch: 117/200\n",
            "  Train_loss: 0.3690\n",
            "  Val_loss: 1.6737 , Val_dice: 0.7812, Val_dice_ema: 0.8078\n",
            "Epoch: 118/200\n",
            "  Train_loss: 0.3479\n",
            "  Val_loss: 1.6751 , Val_dice: 0.7982, Val_dice_ema: 0.8071\n",
            "Epoch: 119/200\n",
            "  Train_loss: 0.3583\n",
            "  Val_loss: 1.6492 , Val_dice: 0.7971, Val_dice_ema: 0.8087\n",
            "Epoch: 120/200\n",
            "  Train_loss: 0.3589\n",
            "  Val_loss: 1.6372 , Val_dice: 0.7974, Val_dice_ema: 0.8101\n",
            "Epoch: 121/200\n",
            "  Train_loss: 0.3760\n",
            "  Val_loss: 1.6220 , Val_dice: 0.8047, Val_dice_ema: 0.8110\n",
            "Epoch: 122/200\n",
            "  Train_loss: 0.3500\n",
            "  Val_loss: 1.6155 , Val_dice: 0.8066, Val_dice_ema: 0.8118\n",
            "Epoch: 123/200\n",
            "  Train_loss: 0.3528\n",
            "  Val_loss: 1.6131 , Val_dice: 0.8027, Val_dice_ema: 0.8125\n",
            "Epoch: 124/200\n",
            "  Train_loss: 0.3698\n",
            "  Val_loss: 1.6582 , Val_dice: 0.7921, Val_dice_ema: 0.8117\n",
            "Epoch: 125/200\n",
            "  Train_loss: 0.3539\n",
            "  Val_loss: 1.6188 , Val_dice: 0.8166, Val_dice_ema: 0.8132\n",
            "Epoch: 126/200\n",
            "  Train_loss: 0.3444\n",
            "  Val_loss: 1.6072 , Val_dice: 0.7997, Val_dice_ema: 0.8148\n",
            "Epoch: 127/200\n",
            "  Train_loss: 0.3487\n",
            "  Val_loss: 1.6256 , Val_dice: 0.7819, Val_dice_ema: 0.8135\n",
            "Epoch: 128/200\n",
            "  Train_loss: 0.3460\n",
            "  Val_loss: 1.6116 , Val_dice: 0.7966, Val_dice_ema: 0.8131\n",
            "Epoch: 129/200\n",
            "  Train_loss: 0.3521\n",
            "  Val_loss: 1.5961 , Val_dice: 0.7991, Val_dice_ema: 0.8147\n",
            "Epoch: 130/200\n",
            "  Train_loss: 0.3310\n",
            "  Val_loss: 1.5978 , Val_dice: 0.7896, Val_dice_ema: 0.8153\n",
            "Epoch: 131/200\n",
            "  Train_loss: 0.3463\n",
            "  Val_loss: 1.6162 , Val_dice: 0.7709, Val_dice_ema: 0.8161\n",
            "Epoch: 132/200\n",
            "  Train_loss: 0.3759\n",
            "  Val_loss: 1.5742 , Val_dice: 0.8068, Val_dice_ema: 0.8173\n",
            "Epoch: 133/200\n",
            "  Train_loss: 0.3530\n",
            "  Val_loss: 1.5539 , Val_dice: 0.8031, Val_dice_ema: 0.8212\n",
            "Epoch: 134/200\n",
            "  Train_loss: 0.3631\n",
            "  Val_loss: 1.5682 , Val_dice: 0.7976, Val_dice_ema: 0.8210\n",
            "Epoch: 135/200\n",
            "  Train_loss: 0.3321\n",
            "  Val_loss: 1.6111 , Val_dice: 0.7967, Val_dice_ema: 0.8169\n",
            "Epoch: 136/200\n",
            "  Train_loss: 0.3552\n",
            "  Val_loss: 1.6287 , Val_dice: 0.7823, Val_dice_ema: 0.8151\n",
            "Epoch: 137/200\n",
            "  Train_loss: 0.3606\n",
            "  Val_loss: 1.6579 , Val_dice: 0.7771, Val_dice_ema: 0.8113\n",
            "Epoch: 138/200\n",
            "  Train_loss: 0.3378\n",
            "  Val_loss: 1.6587 , Val_dice: 0.7906, Val_dice_ema: 0.8095\n",
            "Epoch: 139/200\n",
            "  Train_loss: 0.3557\n",
            "  Val_loss: 1.6494 , Val_dice: 0.7966, Val_dice_ema: 0.8091\n",
            "Epoch: 140/200\n",
            "  Train_loss: 0.3497\n",
            "  Val_loss: 1.6452 , Val_dice: 0.8009, Val_dice_ema: 0.8098\n",
            "Epoch: 141/200\n",
            "  Train_loss: 0.3407\n",
            "  Val_loss: 1.6646 , Val_dice: 0.7935, Val_dice_ema: 0.8091\n",
            "Epoch: 142/200\n",
            "  Train_loss: 0.3177\n",
            "  Val_loss: 1.6375 , Val_dice: 0.8111, Val_dice_ema: 0.8097\n",
            "Epoch: 143/200\n",
            "  Train_loss: 0.3447\n",
            "  Val_loss: 1.6281 , Val_dice: 0.8074, Val_dice_ema: 0.8125\n",
            "Epoch: 144/200\n",
            "  Train_loss: 0.3894\n",
            "  Val_loss: 1.6171 , Val_dice: 0.7806, Val_dice_ema: 0.8155\n",
            "Epoch: 145/200\n",
            "  Train_loss: 0.3502\n",
            "  Val_loss: 1.6196 , Val_dice: 0.7706, Val_dice_ema: 0.8162\n",
            "Epoch: 146/200\n",
            "  Train_loss: 0.3462\n",
            "  Val_loss: 1.5666 , Val_dice: 0.8062, Val_dice_ema: 0.8160\n",
            "Epoch: 147/200\n",
            "  Train_loss: 0.3447\n",
            "  Val_loss: 1.5760 , Val_dice: 0.8126, Val_dice_ema: 0.8162\n",
            "Epoch: 148/200\n",
            "  Train_loss: 0.3490\n",
            "  Val_loss: 1.5861 , Val_dice: 0.7969, Val_dice_ema: 0.8180\n",
            "Epoch: 149/200\n",
            "  Train_loss: 0.3376\n",
            "  Val_loss: 1.5684 , Val_dice: 0.8131, Val_dice_ema: 0.8178\n",
            "Epoch: 150/200\n",
            "  Train_loss: 0.3525\n",
            "  Val_loss: 1.6044 , Val_dice: 0.7742, Val_dice_ema: 0.8170\n",
            "Epoch: 151/200\n",
            "  Train_loss: 0.3535\n",
            "  Val_loss: 1.5886 , Val_dice: 0.8001, Val_dice_ema: 0.8159\n",
            "Epoch: 152/200\n",
            "  Train_loss: 0.3651\n",
            "  Val_loss: 1.5772 , Val_dice: 0.8058, Val_dice_ema: 0.8169\n",
            "Epoch: 153/200\n",
            "  Train_loss: 0.3306\n",
            "  Val_loss: 1.5532 , Val_dice: 0.8154, Val_dice_ema: 0.8195\n",
            "Epoch: 154/200\n",
            "  Train_loss: 0.3574\n",
            "  Val_loss: 1.5563 , Val_dice: 0.7995, Val_dice_ema: 0.8209\n",
            "Epoch: 155/200\n",
            "  Train_loss: 0.3528\n",
            "  Val_loss: 1.5568 , Val_dice: 0.7894, Val_dice_ema: 0.8225\n",
            "Epoch: 156/200\n",
            "  Train_loss: 0.3542\n",
            "  Val_loss: 1.5476 , Val_dice: 0.7826, Val_dice_ema: 0.8215\n",
            "Epoch: 157/200\n",
            "  Train_loss: 0.3415\n",
            "  Val_loss: 1.5522 , Val_dice: 0.7976, Val_dice_ema: 0.8185\n",
            "Epoch: 158/200\n",
            "  Train_loss: 0.3602\n",
            "  Val_loss: 1.5521 , Val_dice: 0.7958, Val_dice_ema: 0.8180\n",
            "Epoch: 159/200\n",
            "  Train_loss: 0.3474\n",
            "  Val_loss: 1.5501 , Val_dice: 0.8064, Val_dice_ema: 0.8176\n",
            "Epoch: 160/200\n",
            "  Train_loss: 0.3546\n",
            "  Val_loss: 1.5400 , Val_dice: 0.8128, Val_dice_ema: 0.8186\n",
            "Epoch: 161/200\n",
            "  Train_loss: 0.3596\n",
            "  Val_loss: 1.5307 , Val_dice: 0.8134, Val_dice_ema: 0.8193\n",
            "Epoch: 162/200\n",
            "  Train_loss: 0.3539\n",
            "  Val_loss: 1.5259 , Val_dice: 0.7982, Val_dice_ema: 0.8227\n",
            "Epoch: 163/200\n",
            "  Train_loss: 0.3635\n",
            "  Val_loss: 1.5897 , Val_dice: 0.7197, Val_dice_ema: 0.8249\n",
            "Epoch: 164/200\n",
            "  Train_loss: 0.3856\n",
            "  Val_loss: 1.5469 , Val_dice: 0.7965, Val_dice_ema: 0.8241\n",
            "Epoch: 165/200\n",
            "  Train_loss: 0.3662\n",
            "  Val_loss: 1.5536 , Val_dice: 0.8011, Val_dice_ema: 0.8206\n",
            "Epoch: 166/200\n",
            "  Train_loss: 0.3532\n",
            "  Val_loss: 1.5591 , Val_dice: 0.7891, Val_dice_ema: 0.8211\n",
            "Epoch: 167/200\n",
            "  Train_loss: 0.3500\n",
            "  Val_loss: 1.5339 , Val_dice: 0.8101, Val_dice_ema: 0.8216\n",
            "Epoch: 168/200\n",
            "  Train_loss: 0.3244\n",
            "  Val_loss: 1.5194 , Val_dice: 0.8059, Val_dice_ema: 0.8230\n",
            "Epoch: 169/200\n",
            "  Train_loss: 0.3332\n",
            "  Val_loss: 1.5182 , Val_dice: 0.8129, Val_dice_ema: 0.8231\n",
            "Epoch: 170/200\n",
            "  Train_loss: 0.3437\n",
            "  Val_loss: 1.5386 , Val_dice: 0.8024, Val_dice_ema: 0.8221\n",
            "Epoch: 171/200\n",
            "  Train_loss: 0.3212\n",
            "  Val_loss: 1.5280 , Val_dice: 0.8127, Val_dice_ema: 0.8215\n",
            "Epoch: 172/200\n",
            "  Train_loss: 0.3565\n",
            "  Val_loss: 1.5390 , Val_dice: 0.7980, Val_dice_ema: 0.8218\n",
            "Epoch: 173/200\n",
            "  Train_loss: 0.3192\n",
            "  Val_loss: 1.5426 , Val_dice: 0.7973, Val_dice_ema: 0.8207\n",
            "Epoch: 174/200\n",
            "  Train_loss: 0.3184\n",
            "  Val_loss: 1.5391 , Val_dice: 0.8131, Val_dice_ema: 0.8198\n",
            "Epoch: 175/200\n",
            "  Train_loss: 0.3272\n",
            "  Val_loss: 1.5462 , Val_dice: 0.8045, Val_dice_ema: 0.8191\n",
            "Epoch: 176/200\n",
            "  Train_loss: 0.3239\n",
            "  Val_loss: 1.5414 , Val_dice: 0.8058, Val_dice_ema: 0.8176\n",
            "Epoch: 177/200\n",
            "  Train_loss: 0.3286\n",
            "  Val_loss: 1.5681 , Val_dice: 0.7966, Val_dice_ema: 0.8150\n",
            "Epoch: 178/200\n",
            "  Train_loss: 0.3435\n",
            "  Val_loss: 1.5470 , Val_dice: 0.8050, Val_dice_ema: 0.8162\n",
            "Epoch: 179/200\n",
            "  Train_loss: 0.3362\n",
            "  Val_loss: 1.4990 , Val_dice: 0.8176, Val_dice_ema: 0.8216\n",
            "Epoch: 180/200\n",
            "  Train_loss: 0.3232\n",
            "  Val_loss: 1.5058 , Val_dice: 0.7976, Val_dice_ema: 0.8233\n",
            "Epoch: 181/200\n",
            "  Train_loss: 0.3359\n",
            "  Val_loss: 1.4892 , Val_dice: 0.8153, Val_dice_ema: 0.8228\n",
            "Epoch: 182/200\n",
            "  Train_loss: 0.3462\n",
            "  Val_loss: 1.4854 , Val_dice: 0.7951, Val_dice_ema: 0.8258\n",
            "Epoch: 183/200\n",
            "  Train_loss: 0.3271\n",
            "  Val_loss: 1.4678 , Val_dice: 0.8110, Val_dice_ema: 0.8266\n",
            "Epoch: 184/200\n",
            "  Train_loss: 0.3212\n",
            "  Val_loss: 1.4788 , Val_dice: 0.8078, Val_dice_ema: 0.8261\n",
            "Epoch: 185/200\n",
            "  Train_loss: 0.3265\n",
            "  Val_loss: 1.4902 , Val_dice: 0.8035, Val_dice_ema: 0.8255\n",
            "Epoch: 186/200\n",
            "  Train_loss: 0.3479\n",
            "  Val_loss: 1.4966 , Val_dice: 0.8150, Val_dice_ema: 0.8228\n",
            "Epoch: 187/200\n",
            "  Train_loss: 0.3454\n",
            "  Val_loss: 1.5284 , Val_dice: 0.7944, Val_dice_ema: 0.8210\n",
            "Epoch: 188/200\n",
            "  Train_loss: 0.3202\n",
            "  Val_loss: 1.5355 , Val_dice: 0.7973, Val_dice_ema: 0.8195\n",
            "Epoch: 189/200\n",
            "  Train_loss: 0.3455\n",
            "  Val_loss: 1.5221 , Val_dice: 0.8107, Val_dice_ema: 0.8205\n",
            "Epoch: 190/200\n",
            "  Train_loss: 0.3334\n",
            "  Val_loss: 1.5267 , Val_dice: 0.8175, Val_dice_ema: 0.8212\n",
            "Epoch: 191/200\n",
            "  Train_loss: 0.3416\n",
            "  Val_loss: 1.5648 , Val_dice: 0.7892, Val_dice_ema: 0.8214\n",
            "Epoch: 192/200\n",
            "  Train_loss: 0.3518\n",
            "  Val_loss: 1.5821 , Val_dice: 0.7931, Val_dice_ema: 0.8202\n",
            "Epoch: 193/200\n",
            "  Train_loss: 0.3582\n",
            "  Val_loss: 1.5763 , Val_dice: 0.7857, Val_dice_ema: 0.8195\n",
            "Epoch: 194/200\n",
            "  Train_loss: 0.3226\n",
            "  Val_loss: 1.5273 , Val_dice: 0.8173, Val_dice_ema: 0.8226\n",
            "Epoch: 195/200\n",
            "  Train_loss: 0.3495\n",
            "  Val_loss: 1.5019 , Val_dice: 0.8099, Val_dice_ema: 0.8241\n",
            "Epoch: 196/200\n",
            "  Train_loss: 0.3350\n",
            "  Val_loss: 1.4766 , Val_dice: 0.8141, Val_dice_ema: 0.8256\n",
            "Epoch: 197/200\n",
            "  Train_loss: 0.3366\n",
            "  Val_loss: 1.4961 , Val_dice: 0.8013, Val_dice_ema: 0.8248\n",
            "Epoch: 198/200\n",
            "  Train_loss: 0.3468\n",
            "  Val_loss: 1.5130 , Val_dice: 0.8064, Val_dice_ema: 0.8246\n",
            "Epoch: 199/200\n",
            "  Train_loss: 0.3442\n",
            "  Val_loss: 1.4939 , Val_dice: 0.8143, Val_dice_ema: 0.8245\n",
            "Epoch: 200/200\n",
            "  Train_loss: 0.3256\n",
            "  Val_loss: 1.4951 , Val_dice: 0.8042, Val_dice_ema: 0.8244\n"
          ]
        }
      ],
      "source": [
        "max_epochs = 200\n",
        "epoch_loss_values = []\n",
        "epoch_valloss_values = []\n",
        "metric_values = []\n",
        "metric_values_ema = []\n",
        "best_metric = 0\n",
        "best_metric_epoch = -1\n",
        "\n",
        "for epoch in range(max_epochs):\n",
        "    print('Epoch: '+str(epoch+1)+'/'+str(max_epochs))\n",
        "    # Train\n",
        "    epoch_loss = 0\n",
        "    net.train()\n",
        "    ## Load data from training dataloader iteratively\n",
        "    for step, batch_data in enumerate(dl_train):\n",
        "        inputs, labels = (\n",
        "            batch_data[\"img\"],\n",
        "            batch_data[\"seg\"]\n",
        "        )\n",
        "        optimizer.zero_grad()\n",
        "        ## Forward path\n",
        "        outputs = net(inputs)\n",
        "        ## Calculate loss\n",
        "        loss = loss_function(outputs, labels)\n",
        "        ## Backward \n",
        "        loss.backward()\n",
        "        ## Update model\n",
        "        optimizer.step()\n",
        "        ema.update()\n",
        "        epoch_loss += loss.item()\n",
        "    epoch_loss /= (step+1)\n",
        "    epoch_loss_values.append(epoch_loss)\n",
        "    # Validation\n",
        "    val_loss = 0\n",
        "    net.eval()\n",
        "    ## Disabled gradient calculation\n",
        "    with torch.no_grad():\n",
        "        ## Load data from validation dataloader iteratively\n",
        "        for step, batch_data in enumerate(dl_val):\n",
        "            val_inputs, val_labels = (\n",
        "                batch_data[\"img\"],\n",
        "                batch_data[\"seg\"]\n",
        "            )\n",
        "            ## Forward (Inference)\n",
        "            val_outputs = net(val_inputs)\n",
        "            ## Calculate loss\n",
        "            loss = loss_function(val_outputs, val_labels)\n",
        "            val_loss += loss.item()\n",
        "            ## Calculate Dice score\n",
        "            val_outputs = [post_trans(i) for i in monai.data.decollate_batch(val_outputs)]\n",
        "            val_labels = monai.data.decollate_batch(val_labels)\n",
        "            dice_metric(y_pred=val_outputs, y=val_labels)\n",
        "        val_loss /= (step+1)\n",
        "        epoch_valloss_values.append(val_loss)\n",
        "        ## aggregate the final mean dice result\n",
        "        metric = dice_metric.aggregate().item()\n",
        "        ## reset the status for next validation round\n",
        "        dice_metric.reset()\n",
        "        metric_values.append(metric)\n",
        "        ## EMA val\n",
        "        ema.apply_shadow()\n",
        "        for step, batch_data in enumerate(dl_val):\n",
        "            val_inputs, val_labels = (\n",
        "                batch_data[\"img\"],\n",
        "                batch_data[\"seg\"]\n",
        "            )\n",
        "            ## Forward (Inference)\n",
        "            val_outputs = net(val_inputs)\n",
        "            ## Calculate loss\n",
        "            loss = loss_function(val_outputs, val_labels)\n",
        "            val_loss += loss.item()\n",
        "            ## Calculate Dice score\n",
        "            val_outputs = [post_trans(i) for i in monai.data.decollate_batch(val_outputs)]\n",
        "            val_labels = monai.data.decollate_batch(val_labels)\n",
        "            dice_metric(y_pred=val_outputs, y=val_labels)\n",
        "        metric = dice_metric.aggregate().item()\n",
        "        dice_metric.reset()\n",
        "        metric_values_ema.append(metric)\n",
        "        ema.restore()\n",
        "        ## Save the model with the best metric\n",
        "        if metric > best_metric:\n",
        "            best_metric = metric\n",
        "            best_metric_epoch = epoch + 1\n",
        "            torch.save(net.state_dict(), './checkpoints/best.pt')\n",
        "        \n",
        "    print(f'  Train_loss: {epoch_loss:.4f}')\n",
        "    print(f'  Val_loss: {val_loss:.4f}', f', Val_dice: {metric_values[-1]:.4f}, Val_dice_ema: {metric_values_ema[-1]:.4f}')\n",
        "torch.save(net.state_dict(), './checkpoints/last.pt')"
      ]
    },
    {
      "cell_type": "code",
      "execution_count": null,
      "id": "fce72f65",
      "metadata": {
        "id": "fce72f65",
        "outputId": "8017e998-54a7-45a3-9bbf-b92269946b8a",
        "colab": {
          "base_uri": "https://localhost:8080/",
          "height": 483
        }
      },
      "outputs": [
        {
          "output_type": "display_data",
          "data": {
            "text/plain": [
              "<Figure size 1152x576 with 2 Axes>"
            ],
            "image/png": "[encoded data removed]"
          },
          "metadata": {
            "needs_background": "light"
          }
        }
      ],
      "source": [
        "plt.figure(figsize=(16, 8))\n",
        "plt.subplot(211)\n",
        "plt.plot(epoch_loss_values, 'b')\n",
        "plt.plot(epoch_valloss_values, 'r')\n",
        "plt.legend(['Train_loss', 'Val_loss'])\n",
        "plt.subplot(212)\n",
        "plt.plot(metric_values, 'g')\n",
        "plt.plot(metric_values_ema, 'y')\n",
        "plt.legend(['Val_dice', 'val_dice_ema'])\n",
        "plt.show()"
      ]
    },
    {
      "cell_type": "code",
      "execution_count": null,
      "id": "c6b32034",
      "metadata": {
        "id": "c6b32034",
        "outputId": "b07a244b-f45a-4e11-b149-203fefd2ea84",
        "colab": {
          "base_uri": "https://localhost:8080/"
        }
      },
      "outputs": [
        {
          "output_type": "execute_result",
          "data": {
            "text/plain": [
              "(0.826556384563446, 183)"
            ]
          },
          "metadata": {},
          "execution_count": 21
        }
      ],
      "source": [
        "best_metric, best_metric_epoch"
      ]
    },
    {
      "cell_type": "markdown",
      "id": "6c7ea8ef",
      "metadata": {
        "id": "6c7ea8ef"
      },
      "source": [
        "## Visualization"
      ]
    },
    {
      "cell_type": "code",
      "execution_count": null,
      "id": "13bc4202",
      "metadata": {
        "id": "13bc4202"
      },
      "outputs": [],
      "source": [
        "# Restore the best checkpoint\n",
        "best_ckpt_dict = torch.load('./checkpoints/best.pt')\n",
        "net.load_state_dict(best_ckpt_dict)"
      ]
    },
    {
      "cell_type": "code",
      "execution_count": null,
      "id": "8754ef59",
      "metadata": {
        "id": "8754ef59"
      },
      "outputs": [],
      "source": [
        "# Get one val data and inference\n",
        "load_resize = monai.transforms.Compose([monai.transforms.LoadImage(image_only=True),\n",
        "                                        monai.transforms.EnsureChannelFirst(),\n",
        "                                        monai.transforms.Resize(spatial_size=spatial_size, mode='area')])\n",
        "\n",
        "fpath = data_val[0]\n",
        "img = load_resize(fpath['img'])\n",
        "data = val_trans(fpath)\n",
        "inputs = data['img'][None, ...]\n",
        "label = data['seg'][None, ...]\n",
        "net.eval()\n",
        "output = net(inputs)\n",
        "output = post_trans(output)\n",
        "inputs.shape, label.shape, output.shape, img.shape"
      ]
    },
    {
      "cell_type": "code",
      "execution_count": null,
      "id": "76750936",
      "metadata": {
        "id": "76750936"
      },
      "outputs": [],
      "source": [
        "# Plot the results\n",
        "plt.figure(figsize=(20, 5))\n",
        "plt.subplot(141)\n",
        "plt.imshow(img.numpy().transpose([1, 2, 0]).astype('uint8'))\n",
        "plt.title('Image')\n",
        "plt.subplot(142)\n",
        "plt.imshow(inputs[0].cpu().numpy().transpose([1, 2, 0]))\n",
        "plt.title('Pre-processed Image')\n",
        "plt.subplot(143)\n",
        "plt.imshow(label[0, 0].cpu().numpy(), cmap='gray')\n",
        "plt.title('Ground Truth')\n",
        "plt.subplot(144)\n",
        "plt.imshow(output[0, 0].cpu().numpy(), cmap='gray')\n",
        "plt.title('Prediction')\n",
        "plt.show()"
      ]
    },
    {
      "cell_type": "markdown",
      "id": "0f2d6f86",
      "metadata": {
        "id": "0f2d6f86"
      },
      "source": [
        "## Export\n",
        "Export the model to ONNX format"
      ]
    },
    {
      "cell_type": "code",
      "execution_count": null,
      "id": "a104c688",
      "metadata": {
        "id": "a104c688"
      },
      "outputs": [],
      "source": [
        "dummy_input = torch.randn(batch_size, 3, 256, 256).to(device)\n",
        "\n",
        "with torch.no_grad():\n",
        "    print(net(dummy_input).shape)"
      ]
    },
    {
      "cell_type": "code",
      "execution_count": null,
      "id": "8c3fefab",
      "metadata": {
        "id": "8c3fefab"
      },
      "outputs": [],
      "source": [
        "torch.onnx.export(net, dummy_input, 'model.onnx')"
      ]
    },
    {
      "cell_type": "markdown",
      "id": "e9243fee",
      "metadata": {
        "id": "e9243fee"
      },
      "source": [
        "## Exploration\n",
        "Try to use different architecture, transformation and hyperparameter to improve the model."
      ]
    },
    {
      "cell_type": "code",
      "execution_count": null,
      "id": "86846580",
      "metadata": {
        "id": "86846580"
      },
      "outputs": [],
      "source": []
    }
  ],
  "metadata": {
    "kernelspec": {
      "display_name": "Python 3 (ipykernel)",
      "language": "python",
      "name": "python3"
    },
    "language_info": {
      "codemirror_mode": {
        "name": "ipython",
        "version": 3
      },
      "file_extension": ".py",
      "mimetype": "text/x-python",
      "name": "python",
      "nbconvert_exporter": "python",
      "pygments_lexer": "ipython3",
      "version": "3.8.13"
    },
    "colab": {
      "provenance": [],
      "collapsed_sections": []
    },
    "gpuClass": "standard",
    "accelerator": "GPU"
  },
  "nbformat": 4,
  "nbformat_minor": 5
}