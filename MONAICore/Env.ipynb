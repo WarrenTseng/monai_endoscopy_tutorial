{
 "cells": [
  {
   "cell_type": "code",
   "execution_count": null,
   "id": "28a1a366",
   "metadata": {},
   "outputs": [],
   "source": [
    "!pip install monai==0.9.1"
   ]
  },
  {
   "cell_type": "code",
   "execution_count": null,
   "id": "42f7c564",
   "metadata": {},
   "outputs": [],
   "source": []
  }
 ],
 "metadata": {
  "kernelspec": {
   "display_name": "Python 3 (ipykernel)",
   "language": "python",
   "name": "python3"
  },
  "language_info": {
   "codemirror_mode": {
    "name": "ipython",
    "version": 3
   },
   "file_extension": ".py",
   "mimetype": "text/x-python",
   "name": "python",
   "nbconvert_exporter": "python",
   "pygments_lexer": "ipython3",
   "version": "3.8.13"
  }
 },
 "nbformat": 4,
 "nbformat_minor": 5
}
