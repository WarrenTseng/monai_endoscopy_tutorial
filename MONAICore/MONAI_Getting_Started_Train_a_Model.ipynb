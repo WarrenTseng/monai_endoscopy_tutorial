{
  "cells": [
    {
      "cell_type": "code",
      "source": [
        "!nvidia-smi"
      ],
      "metadata": {
        "id": "Enk4MbCv4GHC"
      },
      "id": "Enk4MbCv4GHC",
      "execution_count": null,
      "outputs": []
    },
    {
      "cell_type": "code",
      "source": [
        "!pip install monai==1.2.0 gdown"
      ],
      "metadata": {
        "id": "_rJJWfmNn8Bp"
      },
      "id": "_rJJWfmNn8Bp",
      "execution_count": null,
      "outputs": []
    },
    {
      "cell_type": "code",
      "execution_count": null,
      "id": "d2c193c7",
      "metadata": {
        "id": "d2c193c7"
      },
      "outputs": [],
      "source": [
        "import os\n",
        "import numpy as np\n",
        "import matplotlib.pyplot as plt\n",
        "import monai\n",
        "import torch\n",
        "import time"
      ]
    },
    {
      "cell_type": "markdown",
      "id": "608d8572",
      "metadata": {
        "id": "608d8572"
      },
      "source": [
        "### Data list\n",
        "Upload the spleen samples and copy them into `mydata` folder </br>\n",
        "Link: https://drive.google.com/file/d/1lE6cwNhtFPd0KkkaCDdNNeGWinLmxA-R/view?usp=sharing </br>\n",
        "(source: http://medicaldecathlon.com/) </br>\n",
        "Or using gdown:"
      ]
    },
    {
      "cell_type": "code",
      "source": [
        "!gdown --fuzzy https://drive.google.com/file/d/1lE6cwNhtFPd0KkkaCDdNNeGWinLmxA-R/view?usp=sharing"
      ],
      "metadata": {
        "id": "tlbmmQHToyf5"
      },
      "id": "tlbmmQHToyf5",
      "execution_count": null,
      "outputs": []
    },
    {
      "cell_type": "code",
      "source": [
        "!unzip spleen_samples.zip\n",
        "!mv data/ mydata\n",
        "!ls"
      ],
      "metadata": {
        "id": "tlbmmQHToyf5"
      },
      "id": "tlbmmQHToyf5",
      "execution_count": null,
      "outputs": []
    },
    {
      "cell_type": "code",
      "execution_count": null,
      "id": "111613ef",
      "metadata": {
        "id": "111613ef"
      },
      "outputs": [],
      "source": [
        "keys = ['img', 'seg']\n",
        "data_dir = './mydata/'\n",
        "fns = os.listdir(data_dir+'spleen_img/')\n",
        "fpaths = [{key: data_dir+'spleen_'+key+'/'+fn for key in keys} for fn in fns]"
      ]
    },
    {
      "cell_type": "code",
      "execution_count": null,
      "id": "80c93771",
      "metadata": {
        "id": "80c93771"
      },
      "outputs": [],
      "source": [
        "fpaths"
      ]
    },
    {
      "cell_type": "markdown",
      "id": "00eee963",
      "metadata": {
        "id": "00eee963"
      },
      "source": [
        "### Preview"
      ]
    },
    {
      "cell_type": "code",
      "execution_count": null,
      "id": "f5504962",
      "metadata": {
        "id": "f5504962"
      },
      "outputs": [],
      "source": [
        "sample = monai.transforms.LoadImaged(keys)(fpaths[0])\n",
        "sample['img'].shape"
      ]
    },
    {
      "cell_type": "code",
      "execution_count": null,
      "id": "2b9119c6",
      "metadata": {
        "id": "2b9119c6"
      },
      "outputs": [],
      "source": [
        "from IPython.display import clear_output\n",
        "\n",
        "vmax = sample['img'].max()\n",
        "vmin = sample['img'].min()\n",
        "for i in range(sample['img'].shape[-1]):\n",
        "    plt.figure(figsize=(8, 4))\n",
        "    plt.subplot(121)\n",
        "    plt.imshow(sample['img'][..., i], cmap='gray', vmax=vmax, vmin=vmin)\n",
        "    plt.title(str(i+1)+'/'+str(sample['img'].shape[-1]))\n",
        "    plt.subplot(122)\n",
        "    plt.imshow(sample['seg'][..., i], cmap='gray')\n",
        "    plt.show()\n",
        "    time.sleep(0.1)\n",
        "    clear_output(wait=True)"
      ]
    },
    {
      "cell_type": "markdown",
      "id": "b563d278",
      "metadata": {
        "id": "b563d278"
      },
      "source": [
        "### Transforms\n",
        "Fix the transforms below. Ref: https://docs.monai.io/en/stable/transforms.html"
      ]
    },
    {
      "cell_type": "code",
      "execution_count": null,
      "id": "3e1b72fe",
      "metadata": {
        "id": "3e1b72fe"
      },
      "outputs": [],
      "source": [
        "spatial_size = [128, 128, 16]\n",
        "prob = 0.5\n",
        "trans = monai.transforms.Compose([monai.transforms.LoadImaged(keys), \n",
        "                                  monai.transforms.AddChanneld(keys), \n",
        "                                  monai.transforms.EnsureTyped(keys),\n",
        "                                  monai.transforms.NormalizeIntensityd('FIX ME'),\n",
        "                                  monai.transforms.Resized(keys, spatial_size=spatial_size, mode=['area', 'nearest']),\n",
        "                                  monai.transforms.RandScaleIntensityd(keys, 0.2, prob=prob),\n",
        "                                  monai.transforms.RandFlipd('FIX ME'),\n",
        "                                  monai.transforms.ToDeviced(keys, device='cuda:0')])"
      ]
    },
    {
      "cell_type": "code",
      "execution_count": null,
      "id": "f71a2709",
      "metadata": {
        "id": "f71a2709"
      },
      "outputs": [],
      "source": [
        "data = trans(fpaths[0])\n",
        "data['img'].shape, data['seg'].shape"
      ]
    },
    {
      "cell_type": "markdown",
      "id": "ecbeebfe",
      "metadata": {
        "id": "ecbeebfe"
      },
      "source": [
        "### Dataset and DataLoader\n",
        "Fix the dataset below. Ref: https://docs.monai.io/en/stable/data.html#cachedataset"
      ]
    },
    {
      "cell_type": "code",
      "execution_count": null,
      "id": "8bf9d2c5",
      "metadata": {
        "id": "8bf9d2c5"
      },
      "outputs": [],
      "source": [
        "ds = monai.data.CacheDataset('FIX ME')"
      ]
    },
    {
      "cell_type": "code",
      "execution_count": null,
      "id": "a1eb0046",
      "metadata": {
        "id": "a1eb0046"
      },
      "outputs": [],
      "source": [
        "for data in ds: print(data['img'].shape, data['seg'].shape)"
      ]
    },
    {
      "cell_type": "code",
      "execution_count": null,
      "id": "f8a959bc",
      "metadata": {
        "id": "f8a959bc"
      },
      "outputs": [],
      "source": [
        "batch_size = 2\n",
        "dl = torch.utils.data.DataLoader(ds, batch_size=batch_size)\n",
        "for data in dl: print(data['img'].shape, data['seg'].shape)"
      ]
    },
    {
      "cell_type": "markdown",
      "id": "41c5b029",
      "metadata": {
        "id": "41c5b029"
      },
      "source": [
        "### Network, loss and optimizer\n",
        "Fix the network setting. Ref: https://docs.monai.io/en/stable/networks.html#unet"
      ]
    },
    {
      "cell_type": "code",
      "execution_count": null,
      "id": "3bf7924b",
      "metadata": {
        "id": "3bf7924b"
      },
      "outputs": [],
      "source": [
        "device = torch.device(\"cuda:0\")\n",
        "\n",
        "net = monai.networks.nets.UNet(\n",
        "    'FIX ME'\n",
        ").to(device)\n",
        "\n",
        "net(data['img']).shape"
      ]
    },
    {
      "cell_type": "code",
      "execution_count": null,
      "id": "88d3530b",
      "metadata": {
        "id": "88d3530b"
      },
      "outputs": [],
      "source": [
        "loss_function = monai.losses.DiceLoss(sigmoid=True)\n",
        "optimizer = torch.optim.Adam(net.parameters(), 5e-4)"
      ]
    },
    {
      "cell_type": "markdown",
      "id": "aa95262f",
      "metadata": {
        "id": "aa95262f"
      },
      "source": [
        "### Training"
      ]
    },
    {
      "cell_type": "code",
      "execution_count": null,
      "id": "b5a44384",
      "metadata": {
        "scrolled": true,
        "id": "b5a44384"
      },
      "outputs": [],
      "source": [
        "max_epochs = 200\n",
        "epoch_loss_values = []\n",
        "\n",
        "# Set to training mode\n",
        "net.train()\n",
        "t1 = time.time()\n",
        "for epoch in range(max_epochs):\n",
        "    print('Epoch: '+str(epoch+1)+'/'+str(max_epochs))\n",
        "    epoch_loss = 0\n",
        "    for step, batch_data in enumerate(dl):\n",
        "        inputs, labels = (\n",
        "            batch_data[\"img\"],\n",
        "            batch_data[\"seg\"]\n",
        "        )\n",
        "        # Reset optimizer \n",
        "        optimizer.zero_grad()\n",
        "        # Forward\n",
        "        outputs = net(inputs)\n",
        "        # Loss\n",
        "        loss = loss_function(outputs, labels)\n",
        "        # Backward\n",
        "        loss.backward()\n",
        "        # Update weights\n",
        "        optimizer.step()\n",
        "        epoch_loss += loss.item()\n",
        "        print('  Step '+str(step+1)+'/'+str(len(dl))+f', train_loss: {loss.item():.4f}')\n",
        "    epoch_loss /= (step+1)\n",
        "    epoch_loss_values.append(epoch_loss)\n",
        "t2 = time.time()"
      ]
    },
    {
      "cell_type": "code",
      "execution_count": null,
      "id": "f01223b8",
      "metadata": {
        "id": "f01223b8"
      },
      "outputs": [],
      "source": [
        "plt.figure(figsize=(16, 4))\n",
        "plt.plot(epoch_loss_values, ls='--', c='r')\n",
        "print('Timespan:', round(t2-t1, 4), 'seconds')"
      ]
    },
    {
      "cell_type": "markdown",
      "source": [
        "### The result should be as below:\n",
        "![image.png](data:image/png;base64,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)"
      ],
      "metadata": {
        "id": "rsGMxaUW7X-K"
      },
      "id": "rsGMxaUW7X-K"
    },
    {
      "cell_type": "markdown",
      "source": [
        "### How to accelerate the training procedure?"
      ],
      "metadata": {
        "id": "9OodQkpN-BsK"
      },
      "id": "9OodQkpN-BsK"
    },
    {
      "cell_type": "code",
      "source": [],
      "metadata": {
        "id": "Z_fW_2O2-K5d"
      },
      "id": "Z_fW_2O2-K5d",
      "execution_count": null,
      "outputs": []
    }
  ],
  "metadata": {
    "kernelspec": {
      "display_name": "Python 3 (ipykernel)",
      "language": "python",
      "name": "python3"
    },
    "language_info": {
      "codemirror_mode": {
        "name": "ipython",
        "version": 3
      },
      "file_extension": ".py",
      "mimetype": "text/x-python",
      "name": "python",
      "nbconvert_exporter": "python",
      "pygments_lexer": "ipython3",
      "version": "3.8.12"
    },
    "colab": {
      "provenance": [],
      "collapsed_sections": []
    },
    "accelerator": "GPU",
    "gpuClass": "standard"
  },
  "nbformat": 4,
  "nbformat_minor": 5
}
