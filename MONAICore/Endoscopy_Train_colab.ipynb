{
  "cells": [
    {
      "cell_type": "markdown",
      "id": "9fd45c0a",
      "metadata": {
        "id": "9fd45c0a"
      },
      "source": [
        "API Reference: https://docs.monai.io/en/stable/api.html"
      ]
    },
    {
      "cell_type": "code",
      "source": [
        "!nvidia-smi"
      ],
      "metadata": {
        "id": "NQmbL8dkOl9s"
      },
      "id": "NQmbL8dkOl9s",
      "execution_count": null,
      "outputs": []
    },
    {
      "cell_type": "code",
      "source": [
        "!pip install monai==0.9.1"
      ],
      "metadata": {
        "id": "nEv0oaNDNgRo"
      },
      "id": "nEv0oaNDNgRo",
      "execution_count": null,
      "outputs": []
    },
    {
      "cell_type": "code",
      "execution_count": null,
      "id": "64df2953",
      "metadata": {
        "id": "64df2953"
      },
      "outputs": [],
      "source": [
        "import torch\n",
        "import monai\n",
        "import matplotlib.pyplot as plt\n",
        "import numpy as np\n",
        "import os"
      ]
    },
    {
      "cell_type": "markdown",
      "id": "80f9b7a1",
      "metadata": {
        "id": "80f9b7a1"
      },
      "source": [
        "## Data"
      ]
    },
    {
      "cell_type": "code",
      "source": [
        "!wget https://datasets.simula.no/downloads/kvasir-seg.zip\n",
        "!unzip kvasir-seg.zip"
      ],
      "metadata": {
        "id": "h5pk-RIQMya6"
      },
      "id": "h5pk-RIQMya6",
      "execution_count": null,
      "outputs": []
    },
    {
      "cell_type": "code",
      "source": [
        "path_img = './Kvasir-SEG/images/'\n",
        "path_msk = './Kvasir-SEG/masks/'\n",
        "fnames_img = [f for f in os.listdir(path_img) if '.jpg' in f]\n",
        "datalist = []\n",
        "for fname in fnames_img:\n",
        "    data = {'img': path_img+fname, 'seg': path_msk+fname}\n",
        "    datalist.append(data)\n",
        "datalist[:3]"
      ],
      "metadata": {
        "id": "wRVZWa7VNH7D"
      },
      "id": "wRVZWa7VNH7D",
      "execution_count": null,
      "outputs": []
    },
    {
      "cell_type": "code",
      "execution_count": null,
      "id": "0bfd9f23",
      "metadata": {
        "id": "0bfd9f23"
      },
      "outputs": [],
      "source": [
        "# Shuffle\n",
        "np.random.shuffle(datalist)\n",
        "datalist[:3]"
      ]
    },
    {
      "cell_type": "code",
      "execution_count": null,
      "id": "a5c28a6d",
      "metadata": {
        "id": "a5c28a6d"
      },
      "outputs": [],
      "source": [
        "# Split the datalist to train and validation\n",
        "data_train = datalist[:800]\n",
        "data_val = datalist[800:]"
      ]
    },
    {
      "cell_type": "markdown",
      "id": "2cff4ae0",
      "metadata": {
        "id": "2cff4ae0"
      },
      "source": [
        "## Transforms"
      ]
    },
    {
      "cell_type": "code",
      "execution_count": null,
      "id": "6ccac8fc",
      "metadata": {
        "id": "6ccac8fc"
      },
      "outputs": [],
      "source": [
        "keys = ['img', 'seg']\n",
        "spatial_size = (256, 256)\n",
        "prob = 0.7\n",
        "\n",
        "def convert_mask(mask):\n",
        "    mask = mask[0]>100\n",
        "    return mask.astype('int')[None, ...]\n",
        "\n",
        "trans = monai.transforms.Compose([monai.transforms.LoadImaged(keys), # I/O\n",
        "                                  monai.transforms.EnsureChannelFirstd(keys), # Pre-processing\n",
        "                                  monai.transforms.Lambdad(keys='seg', func=convert_mask), # Pre-processing\n",
        "                                  monai.transforms.ToDeviced(keys, device='cuda'), # Pre-processing\n",
        "                                  monai.transforms.Resized(keys, spatial_size=spatial_size, mode=['area', 'nearest']), # Pre-processing\n",
        "                                  monai.transforms.NormalizeIntensityd(keys='img'), # Pre-processing\n",
        "                                  monai.transforms.RandAdjustContrastd(keys='img', gamma=(0.8, 3.0), prob=prob), # Augmentation\n",
        "                                  monai.transforms.RandFlipd(keys, prob=prob), # Augmentation\n",
        "                                  monai.transforms.RandCoarseDropoutd(keys, holes=1, max_holes=10,\n",
        "                                                                      spatial_size=(32, 32), max_spatial_size=(96, 96),\n",
        "                                                                      dropout_holes=True, fill_value=0, prob=prob) # Augmentation\n",
        "                                 ])\n",
        "val_trans = monai.transforms.Compose([monai.transforms.LoadImaged(keys), \n",
        "                                      monai.transforms.EnsureChannelFirstd(keys),\n",
        "                                      monai.transforms.Lambdad(keys='seg', func=convert_mask),\n",
        "                                      monai.transforms.ToDeviced(keys, device='cuda'),\n",
        "                                      monai.transforms.Resized(keys, spatial_size=spatial_size, mode=['area', 'nearest']),\n",
        "                                      monai.transforms.NormalizeIntensityd(keys='img')\n",
        "                                     ])\n",
        "\n",
        "post_trans = monai.transforms.AsDiscrete(threshold=0.5) # Thresholding"
      ]
    },
    {
      "cell_type": "code",
      "execution_count": null,
      "id": "55b25646",
      "metadata": {
        "id": "55b25646"
      },
      "outputs": [],
      "source": [
        "test = trans(data_train[0])\n",
        "plt.figure(figsize=(8, 4))\n",
        "plt.subplot(121)\n",
        "plt.imshow(test['img'].cpu().numpy().transpose([1, 2, 0]))\n",
        "plt.subplot(122)\n",
        "plt.imshow(test['seg'][0].cpu(), cmap='gray')\n",
        "plt.show()\n",
        "test['img'].shape, test['seg'].shape"
      ]
    },
    {
      "cell_type": "markdown",
      "id": "67b21efa",
      "metadata": {
        "id": "67b21efa"
      },
      "source": [
        "## Dataset and Dataloader"
      ]
    },
    {
      "cell_type": "code",
      "execution_count": null,
      "id": "f4e8f997",
      "metadata": {
        "id": "f4e8f997"
      },
      "outputs": [],
      "source": [
        "batch_size = 32\n",
        "\n",
        "ds_train = monai.data.CacheDataset(data_train, transform=trans)\n",
        "dl_train = torch.utils.data.DataLoader(ds_train, batch_size=batch_size)\n",
        "\n",
        "ds_val = monai.data.CacheDataset(data_val, transform=val_trans)\n",
        "dl_val = torch.utils.data.DataLoader(ds_val, batch_size=batch_size)"
      ]
    },
    {
      "cell_type": "markdown",
      "id": "afbb765f",
      "metadata": {
        "id": "afbb765f"
      },
      "source": [
        "## Network, loss and optimizer"
      ]
    },
    {
      "cell_type": "code",
      "execution_count": null,
      "id": "8e2f8858",
      "metadata": {
        "id": "8e2f8858"
      },
      "outputs": [],
      "source": [
        "device = torch.device(\"cuda\")\n",
        "\n",
        "net = monai.networks.nets.SegResNet(\n",
        "    spatial_dims=2,\n",
        "    in_channels=3,\n",
        "    out_channels=1,\n",
        "    dropout_prob=.5\n",
        ").to(device)\n",
        "\n",
        "net(test['img'][None, ...]).shape"
      ]
    },
    {
      "cell_type": "code",
      "execution_count": null,
      "id": "b5263976",
      "metadata": {
        "id": "b5263976"
      },
      "outputs": [],
      "source": [
        "loss_function = monai.losses.DiceLoss(sigmoid=True)\n",
        "optimizer = torch.optim.Adam(net.parameters(), 5e-4)\n",
        "dice_metric = monai.metrics.DiceMetric(include_background=False, reduction=\"mean\")"
      ]
    },
    {
      "cell_type": "markdown",
      "id": "279bde3a",
      "metadata": {
        "id": "279bde3a"
      },
      "source": [
        "## Train\n",
        "Classic PyTorch for-loop"
      ]
    },
    {
      "cell_type": "code",
      "source": [
        "!mkdir checkpoints"
      ],
      "metadata": {
        "id": "qeNVYhOvPNdY"
      },
      "id": "qeNVYhOvPNdY",
      "execution_count": null,
      "outputs": []
    },
    {
      "cell_type": "code",
      "execution_count": null,
      "id": "6d6cd824",
      "metadata": {
        "scrolled": true,
        "id": "6d6cd824"
      },
      "outputs": [],
      "source": [
        "max_epochs = 200\n",
        "epoch_loss_values = []\n",
        "epoch_valloss_values = []\n",
        "metric_values = []\n",
        "best_metric = 0\n",
        "best_metric_epoch = -1\n",
        "\n",
        "for epoch in range(max_epochs):\n",
        "    print('Epoch: '+str(epoch+1)+'/'+str(max_epochs))\n",
        "    # Train\n",
        "    epoch_loss = 0\n",
        "    net.train()\n",
        "    ## Load data from training dataloader iteratively\n",
        "    for step, batch_data in enumerate(dl_train):\n",
        "        inputs, labels = (\n",
        "            batch_data[\"img\"],\n",
        "            batch_data[\"seg\"]\n",
        "        )\n",
        "        optimizer.zero_grad()\n",
        "        ## Forward path\n",
        "        outputs = net(inputs)\n",
        "        ## Calculate loss\n",
        "        loss = loss_function(outputs, labels)\n",
        "        ## Backward \n",
        "        loss.backward()\n",
        "        ## Update model\n",
        "        optimizer.step()\n",
        "        epoch_loss += loss.item()\n",
        "    epoch_loss /= (step+1)\n",
        "    epoch_loss_values.append(epoch_loss)\n",
        "    # Validation\n",
        "    val_loss = 0\n",
        "    net.eval()\n",
        "    ## Disabled gradient calculation\n",
        "    with torch.no_grad():\n",
        "        ## Load data from validation dataloader iteratively\n",
        "        for step, batch_data in enumerate(dl_val):\n",
        "            val_inputs, val_labels = (\n",
        "                batch_data[\"img\"],\n",
        "                batch_data[\"seg\"]\n",
        "            )\n",
        "            ## Forward (Inference)\n",
        "            val_outputs = net(val_inputs)\n",
        "            ## Calculate loss\n",
        "            loss = loss_function(val_outputs, val_labels)\n",
        "            val_loss += loss.item()\n",
        "            ## Calculate Dice score\n",
        "            val_outputs = [post_trans(i) for i in monai.data.decollate_batch(val_outputs)]\n",
        "            val_labels = monai.data.decollate_batch(val_labels)\n",
        "            dice_metric(y_pred=val_outputs, y=val_labels)\n",
        "        val_loss /= (step+1)\n",
        "        epoch_valloss_values.append(val_loss)\n",
        "        ## aggregate the final mean dice result\n",
        "        metric = dice_metric.aggregate().item()\n",
        "        ## reset the status for next validation round\n",
        "        dice_metric.reset()\n",
        "        metric_values.append(metric)\n",
        "        ## Save the model with the best metric\n",
        "        if metric > best_metric:\n",
        "            best_metric = metric\n",
        "            best_metric_epoch = epoch + 1\n",
        "            torch.save(net.state_dict(), './checkpoints/best.pt')\n",
        "        \n",
        "    print(f'  Train_loss: {epoch_loss:.4f}')\n",
        "    print(f'  Val_loss: {val_loss:.4f}', f', Val_dice: {metric:.4f}')\n",
        "torch.save(net.state_dict(), './checkpoints/last.pt')"
      ]
    },
    {
      "cell_type": "code",
      "execution_count": null,
      "id": "fce72f65",
      "metadata": {
        "id": "fce72f65"
      },
      "outputs": [],
      "source": [
        "plt.figure(figsize=(16, 8))\n",
        "plt.subplot(211)\n",
        "plt.plot(epoch_loss_values, 'b')\n",
        "plt.plot(epoch_valloss_values, 'r')\n",
        "plt.legend(['Train_loss', 'Val_loss'])\n",
        "plt.subplot(212)\n",
        "plt.plot(metric_values, 'g')\n",
        "plt.legend(['Val_dice'])\n",
        "plt.show()"
      ]
    },
    {
      "cell_type": "code",
      "execution_count": null,
      "id": "c6b32034",
      "metadata": {
        "id": "c6b32034"
      },
      "outputs": [],
      "source": [
        "best_metric, best_metric_epoch"
      ]
    },
    {
      "cell_type": "markdown",
      "id": "6c7ea8ef",
      "metadata": {
        "id": "6c7ea8ef"
      },
      "source": [
        "## Visualization"
      ]
    },
    {
      "cell_type": "code",
      "execution_count": null,
      "id": "13bc4202",
      "metadata": {
        "id": "13bc4202"
      },
      "outputs": [],
      "source": [
        "# Restore the best checkpoint\n",
        "best_ckpt_dict = torch.load('./checkpoints/best.pt')\n",
        "net.load_state_dict(best_ckpt_dict)"
      ]
    },
    {
      "cell_type": "code",
      "execution_count": null,
      "id": "8754ef59",
      "metadata": {
        "id": "8754ef59"
      },
      "outputs": [],
      "source": [
        "# Get one val data and inference\n",
        "load_resize = monai.transforms.Compose([monai.transforms.LoadImage(image_only=True),\n",
        "                                        monai.transforms.EnsureChannelFirst(),\n",
        "                                        monai.transforms.Resize(spatial_size=spatial_size, mode='area')])\n",
        "\n",
        "fpath = data_val[0]\n",
        "img = load_resize(fpath['img'])\n",
        "data = val_trans(fpath)\n",
        "inputs = data['img'][None, ...]\n",
        "label = data['seg'][None, ...]\n",
        "net.eval()\n",
        "output = net(inputs)\n",
        "output = post_trans(output)\n",
        "inputs.shape, label.shape, output.shape, img.shape"
      ]
    },
    {
      "cell_type": "code",
      "execution_count": null,
      "id": "76750936",
      "metadata": {
        "id": "76750936"
      },
      "outputs": [],
      "source": [
        "# Plot the results\n",
        "plt.figure(figsize=(20, 5))\n",
        "plt.subplot(141)\n",
        "plt.imshow(img.numpy().transpose([1, 2, 0]).astype('uint8'))\n",
        "plt.title('Image')\n",
        "plt.subplot(142)\n",
        "plt.imshow(inputs[0].cpu().numpy().transpose([1, 2, 0]))\n",
        "plt.title('Pre-processed Image')\n",
        "plt.subplot(143)\n",
        "plt.imshow(label[0, 0].cpu().numpy(), cmap='gray')\n",
        "plt.title('Ground Truth')\n",
        "plt.subplot(144)\n",
        "plt.imshow(output[0, 0].cpu().numpy(), cmap='gray')\n",
        "plt.title('Prediction')\n",
        "plt.show()"
      ]
    },
    {
      "cell_type": "markdown",
      "id": "0f2d6f86",
      "metadata": {
        "id": "0f2d6f86"
      },
      "source": [
        "## Export\n",
        "Export the model to ONNX format"
      ]
    },
    {
      "cell_type": "code",
      "execution_count": null,
      "id": "a104c688",
      "metadata": {
        "id": "a104c688"
      },
      "outputs": [],
      "source": [
        "dummy_input = torch.randn(batch_size, 3, 256, 256).to(device)\n",
        "\n",
        "with torch.no_grad():\n",
        "    print(net(dummy_input).shape)"
      ]
    },
    {
      "cell_type": "code",
      "execution_count": null,
      "id": "8c3fefab",
      "metadata": {
        "id": "8c3fefab"
      },
      "outputs": [],
      "source": [
        "torch.onnx.export(net, dummy_input, 'model.onnx')"
      ]
    },
    {
      "cell_type": "markdown",
      "id": "e9243fee",
      "metadata": {
        "id": "e9243fee"
      },
      "source": [
        "## Exploration\n",
        "Try to use different architecture, transformation and hyperparameter to improve the model."
      ]
    },
    {
      "cell_type": "code",
      "execution_count": null,
      "id": "86846580",
      "metadata": {
        "id": "86846580"
      },
      "outputs": [],
      "source": []
    }
  ],
  "metadata": {
    "kernelspec": {
      "display_name": "Python 3 (ipykernel)",
      "language": "python",
      "name": "python3"
    },
    "language_info": {
      "codemirror_mode": {
        "name": "ipython",
        "version": 3
      },
      "file_extension": ".py",
      "mimetype": "text/x-python",
      "name": "python",
      "nbconvert_exporter": "python",
      "pygments_lexer": "ipython3",
      "version": "3.8.13"
    },
    "colab": {
      "provenance": [],
      "collapsed_sections": []
    },
    "gpuClass": "standard"
  },
  "nbformat": 4,
  "nbformat_minor": 5
}