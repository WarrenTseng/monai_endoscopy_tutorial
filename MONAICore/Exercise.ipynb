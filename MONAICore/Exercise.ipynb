{
 "cells": [
  {
   "cell_type": "markdown",
   "id": "bcd77465",
   "metadata": {},
   "source": [
    "## Exercise\n",
    "Follow the developing pipeline in the previous work, try yourself to train a **left atrium segmentation** model!\n",
    "- Data set: http://medicaldecathlon.com/. Please use Task02 dataset"
   ]
  },
  {
   "cell_type": "code",
   "execution_count": 6,
   "id": "eba486ce",
   "metadata": {},
   "outputs": [],
   "source": [
    "import torch\n",
    "import monai\n",
    "import matplotlib.pyplot as plt\n",
    "import numpy as np\n",
    "import os"
   ]
  },
  {
   "cell_type": "markdown",
   "id": "07c0a5d0",
   "metadata": {},
   "source": [
    "### Data"
   ]
  },
  {
   "cell_type": "code",
   "execution_count": 11,
   "id": "4348ca26",
   "metadata": {},
   "outputs": [],
   "source": [
    "img_path = './Task02_Heart/imagesTr/'\n",
    "seg_path = './Task02_Heart/labelsTr/'\n",
    "fnames = os.listdir(img_path)\n",
    "fnames = [f for f in fnames if f in os.listdir(seg_path)]\n",
    "fnames[:3]"
   ]
  },
  {
   "cell_type": "code",
   "execution_count": null,
   "id": "b8efa4c6",
   "metadata": {},
   "outputs": [],
   "source": [
    "# Make a datalist for trianing and validation\n",
    "keys = ['img', 'seg']\n",
    "...\n",
    "\n",
    "\n",
    "data_train = ...\n",
    "data_val = ..."
   ]
  },
  {
   "cell_type": "markdown",
   "id": "39dc2bd3",
   "metadata": {},
   "source": [
    "### Transforms"
   ]
  },
  {
   "cell_type": "code",
   "execution_count": null,
   "id": "b9293a7e",
   "metadata": {},
   "outputs": [],
   "source": [
    "# Add transforms for preprocessing and augmentation\n",
    "\n",
    "trans = monai.transforms.Compose([monai.transforms.LoadImaged(keys), # I/O\n",
    "                                  monai.transforms.EnsureChannelFirstd(keys), # Pre-processing\n",
    "                                  ...\n",
    "                                 ])\n",
    "val_trans = monai.transforms.Compose([monai.transforms.LoadImaged(keys), \n",
    "                                      monai.transforms.EnsureChannelFirstd(keys),\n",
    "                                      ...\n",
    "                                     ])\n",
    "\n",
    "post_trans = ..."
   ]
  },
  {
   "cell_type": "markdown",
   "id": "49421e79",
   "metadata": {},
   "source": [
    "**Please check your data shape and data format after your transformation applied*"
   ]
  },
  {
   "cell_type": "markdown",
   "id": "6372e528",
   "metadata": {},
   "source": [
    "### Dataset and Dataloader"
   ]
  },
  {
   "cell_type": "code",
   "execution_count": null,
   "id": "e03ef849",
   "metadata": {},
   "outputs": [],
   "source": [
    "# Build your dataset and dataloader\n",
    "batch_size = ...\n",
    "\n",
    "ds_train = monai.data.CacheDataset(data_train, transform=trans)\n",
    "dl_train = torch.utils.data.DataLoader(ds_train, batch_size=batch_size)\n",
    "\n",
    "ds_val = monai.data.CacheDataset(data_val, transform=val_trans)\n",
    "dl_val = torch.utils.data.DataLoader(ds_val, batch_size=batch_size)"
   ]
  },
  {
   "cell_type": "markdown",
   "id": "3377cc70",
   "metadata": {},
   "source": [
    "### Network, loss and optimizer"
   ]
  },
  {
   "cell_type": "code",
   "execution_count": null,
   "id": "45fa2388",
   "metadata": {},
   "outputs": [],
   "source": [
    "# Create your network here\n",
    "device = torch.device(\"cuda\")\n",
    "\n",
    "net = ..."
   ]
  },
  {
   "cell_type": "markdown",
   "id": "97d37620",
   "metadata": {},
   "source": [
    "**Please check the output shape after your model forwarding applied*"
   ]
  },
  {
   "cell_type": "code",
   "execution_count": null,
   "id": "35383925",
   "metadata": {},
   "outputs": [],
   "source": [
    "# Choose the loss fucntion. You can also use another optimizer to train the model.\n",
    "loss_function = ...\n",
    "optimizer = torch.optim.Adam(net.parameters(), 1e-4)\n",
    "dice_metric = monai.metrics.DiceMetric(include_background=False, reduction=\"mean\")"
   ]
  },
  {
   "cell_type": "markdown",
   "id": "2bdeef6b",
   "metadata": {},
   "source": [
    "### Train"
   ]
  },
  {
   "cell_type": "code",
   "execution_count": null,
   "id": "6eb1dd6c",
   "metadata": {},
   "outputs": [],
   "source": [
    "# Create your training for-loop\n",
    "max_epochs = ...\n",
    "epoch_loss_values = []\n",
    "epoch_valloss_values = []\n",
    "metric_values = []\n",
    "best_metric = 0\n",
    "best_metric_epoch = -1\n",
    "\n",
    "..."
   ]
  },
  {
   "cell_type": "code",
   "execution_count": null,
   "id": "8163851f",
   "metadata": {},
   "outputs": [],
   "source": [
    "# Plot the traning curve, include training loss, val loss and val dice\n",
    "..."
   ]
  },
  {
   "cell_type": "code",
   "execution_count": null,
   "id": "7dbfe6c9",
   "metadata": {},
   "outputs": [],
   "source": []
  }
 ],
 "metadata": {
  "kernelspec": {
   "display_name": "Python 3 (ipykernel)",
   "language": "python",
   "name": "python3"
  },
  "language_info": {
   "codemirror_mode": {
    "name": "ipython",
    "version": 3
   },
   "file_extension": ".py",
   "mimetype": "text/x-python",
   "name": "python",
   "nbconvert_exporter": "python",
   "pygments_lexer": "ipython3",
   "version": "3.8.13"
  }
 },
 "nbformat": 4,
 "nbformat_minor": 5
}
