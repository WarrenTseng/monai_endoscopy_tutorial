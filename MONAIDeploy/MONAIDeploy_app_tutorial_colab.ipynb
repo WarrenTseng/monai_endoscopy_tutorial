{
  "cells": [
    {
      "cell_type": "markdown",
      "id": "687b94b3",
      "metadata": {
        "id": "687b94b3"
      },
      "source": [
        "## Environment\n",
        "- Host virtualenv: conda create -n monai python=3.7 pytorch torchvision jupyterlab cudatoolkit=11.1 monai monai-deploy-app-sdk -c pytorch -c conda-forge\n",
        "- Additional requirements: nibabel, pydicom, SimpleITK, typeguard, wget, gdown"
      ]
    },
    {
      "cell_type": "code",
      "execution_count": null,
      "id": "5ff60379",
      "metadata": {
        "scrolled": true,
        "id": "5ff60379"
      },
      "outputs": [],
      "source": [
        "!pip install monai-deploy-app-sdk==0.4 wget monai==0.8.1 pydicom"
      ]
    },
    {
      "cell_type": "markdown",
      "id": "b3b9b88a",
      "metadata": {
        "id": "b3b9b88a"
      },
      "source": [
        "# Part 1: MONAIDeploy APP Tutorial"
      ]
    },
    {
      "cell_type": "markdown",
      "id": "d6ad4d5f",
      "metadata": {
        "id": "d6ad4d5f"
      },
      "source": [
        "### - Deploy APP Structure\n",
        "<img src=\"https://github.com/WarrenTseng/monai_endoscopy_tutorial/blob/main/MONAIDeploy/imgs/dep_app_structure.jpg?raw=1\" alt=\"drawing\" width=\"200\"/>"
      ]
    },
    {
      "cell_type": "markdown",
      "id": "77b3a533",
      "metadata": {
        "id": "77b3a533"
      },
      "source": [
        "### - APP Pipeline\n",
        "<img src=\"https://github.com/WarrenTseng/monai_endoscopy_tutorial/blob/main/MONAIDeploy/imgs/app_pipeline.jpg?raw=1\" alt=\"drawing\" width=\"600\"/>"
      ]
    },
    {
      "cell_type": "markdown",
      "id": "2d6a9f2d",
      "metadata": {
        "id": "2d6a9f2d"
      },
      "source": [
        "## 1. Download the Sample Data"
      ]
    },
    {
      "cell_type": "code",
      "source": [
        "!mkdir tmp"
      ],
      "metadata": {
        "id": "nYWKO0LyXFjW"
      },
      "id": "nYWKO0LyXFjW",
      "execution_count": null,
      "outputs": []
    },
    {
      "cell_type": "code",
      "execution_count": null,
      "id": "5bc4d234",
      "metadata": {
        "id": "5bc4d234"
      },
      "outputs": [],
      "source": [
        "from skimage import io\n",
        "import wget\n",
        "\n",
        "test_input_path = \"./tmp/normal-brain-mri-4.png\"\n",
        "wget.download(\"https://user-images.githubusercontent.com/1928522/133383228-2357d62d-316c-46ad-af8a-359b56f25c87.png\", test_input_path)\n",
        "\n",
        "print(f\"Test input file path: {test_input_path}\")\n",
        "\n",
        "test_image = io.imread(test_input_path)\n",
        "io.imshow(test_image)"
      ]
    },
    {
      "cell_type": "code",
      "execution_count": null,
      "id": "08149cb7",
      "metadata": {
        "id": "08149cb7"
      },
      "outputs": [],
      "source": [
        "# Copy a test input file to 'input' folder\n",
        "!mkdir -p input && rm -rf input/*\n",
        "!cp {test_input_path} input/"
      ]
    },
    {
      "cell_type": "markdown",
      "id": "533595f7",
      "metadata": {
        "id": "533595f7"
      },
      "source": [
        "## 2. Creating Operators"
      ]
    },
    {
      "cell_type": "code",
      "execution_count": null,
      "id": "6485c835",
      "metadata": {
        "id": "6485c835"
      },
      "outputs": [],
      "source": [
        "!mkdir simple_imaging_app"
      ]
    },
    {
      "cell_type": "markdown",
      "id": "ce9276b9",
      "metadata": {
        "id": "ce9276b9"
      },
      "source": [
        "### SobelOperator"
      ]
    },
    {
      "cell_type": "code",
      "execution_count": null,
      "id": "16ec3957",
      "metadata": {
        "id": "16ec3957"
      },
      "outputs": [],
      "source": [
        "%%writefile simple_imaging_app/sobel_operator.py\n",
        "import monai.deploy.core as md\n",
        "from monai.deploy.core import (\n",
        "    Application,\n",
        "    DataPath,\n",
        "    ExecutionContext,\n",
        "    Image,\n",
        "    InputContext,\n",
        "    IOType,\n",
        "    Operator,\n",
        "    OutputContext,\n",
        ")\n",
        "\n",
        "@md.input(\"image\", DataPath, IOType.DISK)\n",
        "@md.output(\"image\", Image, IOType.IN_MEMORY)\n",
        "class SobelOperator(Operator):\n",
        "    def compute(self, op_input: InputContext, op_output: OutputContext, context: ExecutionContext):\n",
        "        from skimage import filters, io\n",
        "\n",
        "        input_path = op_input.get().path\n",
        "        if input_path.is_dir():\n",
        "            input_path = next(input_path.glob(\"*.*\"))  # take the first file\n",
        "\n",
        "        data_in = io.imread(input_path)[:, :, :3]  # discard alpha channel if exists\n",
        "        data_out = filters.sobel(data_in)\n",
        "\n",
        "        op_output.set(Image(data_out))"
      ]
    },
    {
      "cell_type": "markdown",
      "id": "7986f8a9",
      "metadata": {
        "id": "7986f8a9"
      },
      "source": [
        "### MedianOperator"
      ]
    },
    {
      "cell_type": "code",
      "execution_count": null,
      "id": "75bcb94a",
      "metadata": {
        "id": "75bcb94a"
      },
      "outputs": [],
      "source": [
        "%%writefile simple_imaging_app/median_operator.py\n",
        "import monai.deploy.core as md\n",
        "from monai.deploy.core import (\n",
        "    Application,\n",
        "    DataPath,\n",
        "    ExecutionContext,\n",
        "    Image,\n",
        "    InputContext,\n",
        "    IOType,\n",
        "    Operator,\n",
        "    OutputContext,\n",
        ")\n",
        "\n",
        "@md.input(\"image\", Image, IOType.IN_MEMORY)\n",
        "@md.output(\"image\", Image, IOType.IN_MEMORY)\n",
        "class MedianOperator(Operator):\n",
        "    def compute(self, op_input: InputContext, op_output: OutputContext, context: ExecutionContext):\n",
        "        from skimage.filters import median\n",
        "\n",
        "        data_in = op_input.get().asnumpy()\n",
        "        data_out = median(data_in)\n",
        "        op_output.set(Image(data_out))"
      ]
    },
    {
      "cell_type": "markdown",
      "id": "9d706060",
      "metadata": {
        "id": "9d706060"
      },
      "source": [
        "### GaussianOperator"
      ]
    },
    {
      "cell_type": "code",
      "execution_count": null,
      "id": "a909d21b",
      "metadata": {
        "id": "a909d21b"
      },
      "outputs": [],
      "source": [
        "%%writefile simple_imaging_app/gaussian_operator.py\n",
        "import monai.deploy.core as md\n",
        "from monai.deploy.core import (\n",
        "    Application,\n",
        "    DataPath,\n",
        "    ExecutionContext,\n",
        "    Image,\n",
        "    InputContext,\n",
        "    IOType,\n",
        "    Operator,\n",
        "    OutputContext,\n",
        ")\n",
        "\n",
        "@md.input(\"image\", Image, IOType.IN_MEMORY)\n",
        "@md.output(\"image\", DataPath, IOType.DISK)\n",
        "class GaussianOperator(Operator):\n",
        "    def compute(self, op_input: InputContext, op_output: OutputContext, context: ExecutionContext):\n",
        "        from skimage.filters import gaussian\n",
        "        from skimage.io import imsave\n",
        "\n",
        "        data_in = op_input.get().asnumpy()\n",
        "        data_out = gaussian(data_in, sigma=0.2)\n",
        "\n",
        "        output_folder = op_output.get().path\n",
        "        output_path = output_folder / \"final_output.png\"\n",
        "        imsave(output_path, data_out)"
      ]
    },
    {
      "cell_type": "markdown",
      "id": "126f2241",
      "metadata": {
        "id": "126f2241"
      },
      "source": [
        "## 3. Application Class"
      ]
    },
    {
      "cell_type": "code",
      "execution_count": null,
      "id": "ef96e984",
      "metadata": {
        "id": "ef96e984"
      },
      "outputs": [],
      "source": [
        "%%writefile simple_imaging_app/app.py\n",
        "import monai.deploy.core as md\n",
        "from gaussian_operator import GaussianOperator\n",
        "from median_operator import MedianOperator\n",
        "from sobel_operator import SobelOperator\n",
        "\n",
        "from monai.deploy.core import Application\n",
        "\n",
        "\n",
        "@md.resource(cpu=1)\n",
        "@md.env(pip_packages=[\"scikit-image >= 0.17.2\", \"monai == 0.7.0\", \"monai-deploy-app-sdk == 0.2.0\"])\n",
        "class App(Application):\n",
        "    # App's name. <class name>('App') if not specified.\n",
        "    name = \"simple_imaging_app\"\n",
        "    # App's description. <class docstring> if not specified.\n",
        "    description = \"This is a very simple application.\"\n",
        "    # App's version. <git version tag> or '0.0.0' if not specified.\n",
        "    version = \"0.1.0\"\n",
        "    def compose(self):\n",
        "        \"\"\"This application has three operators.\n",
        "\n",
        "        Each operator has a single input and a single output port.\n",
        "        Each operator performs some kind of image processing function.\n",
        "        \"\"\"\n",
        "        sobel_op = SobelOperator()\n",
        "        median_op = MedianOperator()\n",
        "        gaussian_op = GaussianOperator()\n",
        "\n",
        "        self.add_flow(sobel_op, median_op)\n",
        "        self.add_flow(median_op, gaussian_op)\n",
        "\n",
        "# Run the application when this file is executed.\n",
        "if __name__ == \"__main__\":\n",
        "    App(do_run=True)"
      ]
    },
    {
      "cell_type": "code",
      "execution_count": null,
      "id": "43006650",
      "metadata": {
        "id": "43006650"
      },
      "outputs": [],
      "source": [
        "%%writefile simple_imaging_app/__main__.py\n",
        "from app import App\n",
        "\n",
        "if __name__ == \"__main__\":\n",
        "    App(do_run=True)"
      ]
    },
    {
      "cell_type": "markdown",
      "id": "0ed61dc9",
      "metadata": {
        "id": "0ed61dc9"
      },
      "source": [
        "## 4. APP Testing"
      ]
    },
    {
      "cell_type": "code",
      "execution_count": null,
      "id": "2473bd9b",
      "metadata": {
        "id": "2473bd9b"
      },
      "outputs": [],
      "source": [
        "!monai-deploy exec simple_imaging_app -i {test_input_path} -o output\n",
        "# !python simple_imaging_app -i {test_input_path} -o output"
      ]
    },
    {
      "cell_type": "code",
      "execution_count": null,
      "id": "ea501672",
      "metadata": {
        "id": "ea501672"
      },
      "outputs": [],
      "source": [
        "from skimage import io\n",
        "output_image = io.imread(\"output/final_output.png\")\n",
        "io.imshow(output_image)"
      ]
    },
    {
      "cell_type": "markdown",
      "id": "6eef200b",
      "metadata": {
        "id": "6eef200b"
      },
      "source": [
        "## 5. Packaging APP"
      ]
    },
    {
      "cell_type": "markdown",
      "id": "90243fb0",
      "metadata": {
        "id": "90243fb0"
      },
      "source": [
        "- Execute the commands below in your host env </br>\n",
        "****************************************************************"
      ]
    },
    {
      "cell_type": "code",
      "execution_count": null,
      "id": "89ac49e8",
      "metadata": {
        "id": "89ac49e8"
      },
      "outputs": [],
      "source": [
        "# !sudo /raid/home/warren/miniconda3/envs/monai/bin/monai-deploy package simple_imaging_app --tag simple_monai_app:latest"
      ]
    },
    {
      "cell_type": "code",
      "execution_count": null,
      "id": "da235bf3",
      "metadata": {
        "id": "da235bf3"
      },
      "outputs": [],
      "source": [
        "## Check the created image\n",
        "# !sudo docker images | grep monai_app"
      ]
    },
    {
      "cell_type": "markdown",
      "id": "63a071eb",
      "metadata": {
        "id": "63a071eb"
      },
      "source": [
        "****************************************************************"
      ]
    },
    {
      "cell_type": "markdown",
      "id": "a3bda675",
      "metadata": {
        "id": "a3bda675"
      },
      "source": [
        "## 6. Executing Packaged APP"
      ]
    },
    {
      "cell_type": "code",
      "execution_count": null,
      "id": "a43f7fc8",
      "metadata": {
        "id": "a43f7fc8"
      },
      "outputs": [],
      "source": [
        "# remove the output image first\n",
        "!rm output/final_output.png"
      ]
    },
    {
      "cell_type": "markdown",
      "id": "02e30b0d",
      "metadata": {
        "id": "02e30b0d"
      },
      "source": [
        "- Execute the commands below in your host env </br>\n",
        "****************************************************************"
      ]
    },
    {
      "cell_type": "code",
      "execution_count": null,
      "id": "a95ad63e",
      "metadata": {
        "id": "a95ad63e"
      },
      "outputs": [],
      "source": [
        "# !sudo /raid/home/warren/miniconda3/envs/monai/bin/monai-deploy run simple_monai_app:latest input output"
      ]
    },
    {
      "cell_type": "markdown",
      "id": "26389e90",
      "metadata": {
        "id": "26389e90"
      },
      "source": [
        "****************************************************************"
      ]
    },
    {
      "cell_type": "code",
      "execution_count": null,
      "id": "8886062f",
      "metadata": {
        "id": "8886062f"
      },
      "outputs": [],
      "source": [
        "output_image = io.imread(\"output/final_output.png\")\n",
        "io.imshow(output_image)"
      ]
    },
    {
      "cell_type": "markdown",
      "id": "bc76546e",
      "metadata": {
        "id": "bc76546e"
      },
      "source": [
        "# Part 2: Segmentation Pipeline APP"
      ]
    },
    {
      "cell_type": "markdown",
      "id": "583203a1",
      "metadata": {
        "id": "583203a1"
      },
      "source": [
        "## 1. Download and Extract Sample Data"
      ]
    },
    {
      "cell_type": "code",
      "execution_count": null,
      "id": "14e86469",
      "metadata": {
        "scrolled": true,
        "id": "14e86469"
      },
      "outputs": [],
      "source": [
        "# Download ai_spleen_seg_data test data zip file\n",
        "!gdown https://drive.google.com/uc?id=1GC_N8YQk_mOWN02oOzAU_2YDmNRWk--n\n",
        "\n",
        "# After downloading ai_spleen_seg_data zip file from the web browser or using gdown,\n",
        "!unzip -o \"ai_spleen_seg_data_updated_1203.zip\""
      ]
    },
    {
      "cell_type": "markdown",
      "id": "73851155",
      "metadata": {
        "id": "73851155"
      },
      "source": [
        "## 2. Creating Segmentation Operator"
      ]
    },
    {
      "cell_type": "code",
      "execution_count": null,
      "id": "ec020b59",
      "metadata": {
        "id": "ec020b59"
      },
      "outputs": [],
      "source": [
        "# Create an application folder\n",
        "!mkdir -p spleen_seg_app"
      ]
    },
    {
      "cell_type": "markdown",
      "id": "161a373c",
      "metadata": {
        "id": "161a373c"
      },
      "source": [
        "### spleen_seg_operator.py"
      ]
    },
    {
      "cell_type": "code",
      "execution_count": null,
      "id": "7237ba37",
      "metadata": {
        "id": "7237ba37"
      },
      "outputs": [],
      "source": [
        "%%writefile spleen_seg_app/spleen_seg_operator.py\n",
        "import logging\n",
        "from os import path\n",
        "\n",
        "from numpy import uint8\n",
        "import monai.deploy.core as md\n",
        "from monai.deploy.core import (\n",
        "    Application,\n",
        "    DataPath,\n",
        "    ExecutionContext,\n",
        "    Image,\n",
        "    InputContext,\n",
        "    IOType,\n",
        "    Operator,\n",
        "    OutputContext,\n",
        ")\n",
        "from monai.deploy.operators.monai_seg_inference_operator import InMemImageReader, MonaiSegInferenceOperator\n",
        "import monai\n",
        "from monai.transforms import (\n",
        "    Activationsd,\n",
        "    AsDiscreted,\n",
        "    Compose,\n",
        "    CropForegroundd,\n",
        "    EnsureChannelFirstd,\n",
        "    Invertd,\n",
        "    LoadImaged,\n",
        "    SaveImaged,\n",
        "    ScaleIntensityRanged,\n",
        "    Spacingd,\n",
        "    ToTensord,\n",
        ")\n",
        "\n",
        "@md.input(\"image\", Image, IOType.IN_MEMORY)\n",
        "@md.output(\"seg_image\", Image, IOType.IN_MEMORY)\n",
        "@md.env(pip_packages=[\"monai==0.7.0\", \"torch>=1.5\", \"numpy>=1.20\", \"nibabel\", \"typeguard\", \"monai-deploy-app-sdk == 0.2.0\"])\n",
        "class SpleenSegOperator(Operator):\n",
        "    \"\"\"Performs Spleen segmentation with a 3D image converted from a DICOM CT series.\n",
        "    \"\"\"\n",
        "\n",
        "    def __init__(self):\n",
        "\n",
        "        self.logger = logging.getLogger(\"{}.{}\".format(__name__, type(self).__name__))\n",
        "        super().__init__()\n",
        "        self._input_dataset_key = \"image\"\n",
        "        self._pred_dataset_key = \"pred\"\n",
        "\n",
        "    def compute(self, op_input: InputContext, op_output: OutputContext, context: ExecutionContext):\n",
        "\n",
        "        input_image = op_input.get(\"image\")\n",
        "        if not input_image:\n",
        "            raise ValueError(\"Input image is not found.\")\n",
        "\n",
        "        output_path = context.output.get().path\n",
        "\n",
        "        # This operator gets an in-memory Image object, so a specialized ImageReader is needed.\n",
        "        _reader = InMemImageReader(input_image)\n",
        "        pre_transforms = self.pre_process(_reader)\n",
        "        post_transforms = self.post_process(pre_transforms, path.join(output_path, \"prediction_output\"))\n",
        "\n",
        "        # Delegates inference and saving output to the built-in operator.\n",
        "        infer_operator = MonaiSegInferenceOperator(\n",
        "            (\n",
        "                160,\n",
        "                160,\n",
        "                160,\n",
        "            ),\n",
        "            pre_transforms,\n",
        "            post_transforms,\n",
        "        )\n",
        "\n",
        "        # Setting the keys used in the dictironary based transforms may change.\n",
        "        infer_operator.input_dataset_key = self._input_dataset_key\n",
        "        infer_operator.pred_dataset_key = self._pred_dataset_key\n",
        "\n",
        "        # Now let the built-in operator handles the work with the I/O spec and execution context.\n",
        "        infer_operator.compute(op_input, op_output, context)\n",
        "\n",
        "    def pre_process(self, img_reader) -> Compose:\n",
        "        \"\"\"Composes transforms for preprocessing input before predicting on a model.\"\"\"\n",
        "\n",
        "        my_key = self._input_dataset_key\n",
        "        return Compose(\n",
        "            [\n",
        "                LoadImaged(keys=my_key, reader=img_reader),\n",
        "                EnsureChannelFirstd(keys=my_key),\n",
        "                Spacingd(keys=my_key, pixdim=[1.0, 1.0, 1.0], mode=[\"blinear\"], align_corners=True),\n",
        "                ScaleIntensityRanged(keys=my_key, a_min=-57, a_max=164, b_min=0.0, b_max=1.0, clip=True),\n",
        "                CropForegroundd(keys=my_key, source_key=my_key),\n",
        "                ToTensord(keys=my_key),\n",
        "            ]\n",
        "        )\n",
        "\n",
        "    def post_process(self, pre_transforms: Compose, out_dir: str = \"./prediction_output\") -> Compose:\n",
        "        \"\"\"Composes transforms for postprocessing the prediction results.\"\"\"\n",
        "\n",
        "        pred_key = self._pred_dataset_key\n",
        "        return Compose(\n",
        "            [\n",
        "                Activationsd(keys=pred_key, softmax=True),\n",
        "                AsDiscreted(keys=pred_key, argmax=True),\n",
        "                Invertd(\n",
        "                    keys=pred_key, transform=pre_transforms, orig_keys=self._input_dataset_key, nearest_interp=True\n",
        "                ),\n",
        "                SaveImaged(keys=pred_key, output_dir=out_dir, output_postfix=\"seg\", output_dtype=uint8, resample=False),\n",
        "            ]\n",
        "        )"
      ]
    },
    {
      "cell_type": "markdown",
      "id": "cf205e08",
      "metadata": {
        "id": "cf205e08"
      },
      "source": [
        "## 3. Application Class"
      ]
    },
    {
      "cell_type": "code",
      "execution_count": null,
      "id": "c4934e0e",
      "metadata": {
        "id": "c4934e0e"
      },
      "outputs": [],
      "source": [
        "%%writefile spleen_seg_app/app.py\n",
        "import logging\n",
        "\n",
        "from spleen_seg_operator import SpleenSegOperator\n",
        "\n",
        "import monai.deploy.core as md\n",
        "from monai.deploy.core import Application, resource\n",
        "from monai.deploy.operators.dicom_data_loader_operator import DICOMDataLoaderOperator\n",
        "from monai.deploy.operators.dicom_seg_writer_operator import DICOMSegmentationWriterOperator\n",
        "from monai.deploy.operators.dicom_series_selector_operator import DICOMSeriesSelectorOperator\n",
        "from monai.deploy.operators.dicom_series_to_volume_operator import DICOMSeriesToVolumeOperator\n",
        "\n",
        "@resource(cpu=1, gpu=1, memory=\"7Gi\")\n",
        "@md.env(pip_packages=[\"monai-deploy-app-sdk == 0.2.0\"])\n",
        "class AISpleenSegApp(Application):\n",
        "    def __init__(self, *args, **kwargs):\n",
        "        super().__init__(*args, **kwargs)\n",
        "\n",
        "    def compose(self):\n",
        "\n",
        "        study_loader_op = DICOMDataLoaderOperator()\n",
        "        series_selector_op = DICOMSeriesSelectorOperator(Sample_Rules_Text)\n",
        "        series_to_vol_op = DICOMSeriesToVolumeOperator()\n",
        "        # Creates DICOM Seg writer with segment label name in a string list\n",
        "        dicom_seg_writer = DICOMSegmentationWriterOperator(seg_labels=[\"Spleen\"])\n",
        "        # Creates the model specific segmentation operator\n",
        "        spleen_seg_op = SpleenSegOperator()\n",
        "\n",
        "        # Creates the DAG by link the operators\n",
        "        self.add_flow(study_loader_op, series_selector_op, {\"dicom_study_list\": \"dicom_study_list\"})\n",
        "        self.add_flow(series_selector_op, series_to_vol_op, {\"study_selected_series_list\": \"study_selected_series_list\"})\n",
        "        self.add_flow(series_to_vol_op, spleen_seg_op, {\"image\": \"image\"})\n",
        "        self.add_flow(series_selector_op, dicom_seg_writer, {\"study_selected_series_list\": \"study_selected_series_list\"})\n",
        "        self.add_flow(spleen_seg_op, dicom_seg_writer, {\"seg_image\": \"seg_image\"})\n",
        "\n",
        "# This is a sample series selection rule in JSON, simply selecting CT series.\n",
        "# If the study has more than 1 CT series, then all of them will be selected.\n",
        "# Please see more detail in DICOMSeriesSelectorOperator.\n",
        "Sample_Rules_Text = \"\"\"\n",
        "{\n",
        "    \"selections\": [\n",
        "        {\n",
        "            \"name\": \"CT Series\",\n",
        "            \"conditions\": {\n",
        "                \"StudyDescription\": \"(.*?)\",\n",
        "                \"Modality\": \"(?i)CT\",\n",
        "                \"SeriesDescription\": \"(.*?)\"\n",
        "            }\n",
        "        }\n",
        "    ]\n",
        "}\n",
        "\"\"\"\n",
        "\n",
        "if __name__ == \"__main__\":\n",
        "    # Creates the app and test it standalone. When running is this mode, please note the following:\n",
        "    #     -i <DICOM folder>, for input DICOM CT series folder\n",
        "    #     -o <output folder>, for the output folder, default $PWD/output\n",
        "    #     -m <model file>, for model file path\n",
        "    # e.g.\n",
        "    #     python3 app.py -i input -m model.ts\n",
        "    #\n",
        "    AISpleenSegApp(do_run=True)"
      ]
    },
    {
      "cell_type": "code",
      "execution_count": null,
      "id": "30261965",
      "metadata": {
        "id": "30261965"
      },
      "outputs": [],
      "source": [
        "%%writefile spleen_seg_app/__main__.py\n",
        "from app import AISpleenSegApp\n",
        "\n",
        "if __name__ == \"__main__\":\n",
        "    AISpleenSegApp(do_run=True)"
      ]
    },
    {
      "cell_type": "markdown",
      "id": "c7b50d52",
      "metadata": {
        "id": "c7b50d52"
      },
      "source": [
        "## 4. APP Testing"
      ]
    },
    {
      "cell_type": "code",
      "execution_count": null,
      "id": "c36f2a31",
      "metadata": {
        "scrolled": true,
        "id": "c36f2a31"
      },
      "outputs": [],
      "source": [
        "!monai-deploy exec spleen_seg_app -i dcm -o output -m model.ts"
      ]
    },
    {
      "cell_type": "code",
      "execution_count": null,
      "id": "5762ddd7",
      "metadata": {
        "id": "5762ddd7"
      },
      "outputs": [],
      "source": [
        "import pydicom\n",
        "import matplotlib.pyplot as plt\n",
        "\n",
        "result = pydicom.dcmread('./output/dicom_seg-DICOMSEG.dcm')\n",
        "plt.imshow(result.pixel_array[100], cmap='gray')"
      ]
    },
    {
      "cell_type": "markdown",
      "id": "a423ad06",
      "metadata": {
        "id": "a423ad06"
      },
      "source": [
        "## 5. Packaging APP"
      ]
    },
    {
      "cell_type": "markdown",
      "id": "ec26ae46",
      "metadata": {
        "id": "ec26ae46"
      },
      "source": [
        "- Execute the commands below in your host env </br>\n",
        "****************************************************************"
      ]
    },
    {
      "cell_type": "code",
      "execution_count": null,
      "id": "b2ce8594",
      "metadata": {
        "id": "b2ce8594"
      },
      "outputs": [],
      "source": [
        "# !sudo /raid/home/warren/miniconda3/envs/monai/bin/monai-deploy package -b nvcr.io/nvidia/pytorch:21.07-py3 spleen_seg_app --tag spleen_seg_app:latest -m model.ts"
      ]
    },
    {
      "cell_type": "code",
      "execution_count": null,
      "id": "fdff4bf5",
      "metadata": {
        "id": "fdff4bf5"
      },
      "outputs": [],
      "source": [
        "# !sudo docker images | grep spleen"
      ]
    },
    {
      "cell_type": "markdown",
      "id": "f65ad471",
      "metadata": {
        "id": "f65ad471"
      },
      "source": [
        "****************************************************************"
      ]
    },
    {
      "cell_type": "markdown",
      "id": "c75b7aa2",
      "metadata": {
        "id": "c75b7aa2"
      },
      "source": [
        "## 6. Executing Packaged APP"
      ]
    },
    {
      "cell_type": "markdown",
      "id": "e0cce28f",
      "metadata": {
        "id": "e0cce28f"
      },
      "source": [
        "- Execute the commands below in your host env </br>\n",
        "****************************************************************"
      ]
    },
    {
      "cell_type": "code",
      "execution_count": null,
      "id": "5baa450d",
      "metadata": {
        "id": "5baa450d"
      },
      "outputs": [],
      "source": [
        "# remove the previous output image first\n",
        "!rm ./output/dicom_seg-DICOMSEG.dcm"
      ]
    },
    {
      "cell_type": "code",
      "execution_count": null,
      "id": "f064fcc6",
      "metadata": {
        "id": "f064fcc6"
      },
      "outputs": [],
      "source": [
        "# !sudo /raid/home/warren/miniconda3/envs/monai/bin/monai-deploy run spleen_seg_app:latest dcm output"
      ]
    },
    {
      "cell_type": "code",
      "execution_count": null,
      "id": "74c42bb0",
      "metadata": {
        "id": "74c42bb0"
      },
      "outputs": [],
      "source": [
        "result = pydicom.dcmread('./output/dicom_seg-DICOMSEG.dcm')\n",
        "plt.imshow(result.pixel_array[100], cmap='gray')"
      ]
    },
    {
      "cell_type": "markdown",
      "id": "067884bc",
      "metadata": {
        "id": "067884bc"
      },
      "source": [
        "****************************************************************"
      ]
    },
    {
      "cell_type": "markdown",
      "id": "a9498252",
      "metadata": {
        "id": "a9498252"
      },
      "source": [
        "# Exercise\n",
        "Create your own endoscopy segmentation APP!\n",
        "- *Export the model as TorchScript format (model.ts)"
      ]
    },
    {
      "cell_type": "code",
      "execution_count": null,
      "id": "85a3c7b2",
      "metadata": {
        "id": "85a3c7b2"
      },
      "outputs": [],
      "source": []
    }
  ],
  "metadata": {
    "kernelspec": {
      "display_name": "Python 3 (ipykernel)",
      "language": "python",
      "name": "python3"
    },
    "language_info": {
      "codemirror_mode": {
        "name": "ipython",
        "version": 3
      },
      "file_extension": ".py",
      "mimetype": "text/x-python",
      "name": "python",
      "nbconvert_exporter": "python",
      "pygments_lexer": "ipython3",
      "version": "3.8.13"
    },
    "colab": {
      "provenance": []
    },
    "accelerator": "GPU",
    "gpuClass": "standard"
  },
  "nbformat": 4,
  "nbformat_minor": 5
}
