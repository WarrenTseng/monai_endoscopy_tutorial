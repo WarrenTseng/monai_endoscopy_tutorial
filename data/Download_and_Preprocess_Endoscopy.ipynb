{
 "cells": [
  {
   "cell_type": "markdown",
   "id": "125416cc",
   "metadata": {},
   "source": [
    "## Download Kvasir-SEG Dataset"
   ]
  },
  {
   "cell_type": "code",
   "execution_count": null,
   "id": "a100403c",
   "metadata": {},
   "outputs": [],
   "source": [
    "# !wget https://datasets.simula.no/downloads/kvasir-seg.zip\n",
    "# !unzip kvasir-seg.zip"
   ]
  },
  {
   "cell_type": "code",
   "execution_count": null,
   "id": "0aff0d89",
   "metadata": {},
   "outputs": [],
   "source": [
    "!ls Kvasir-SEG/"
   ]
  },
  {
   "cell_type": "markdown",
   "id": "035fa22e",
   "metadata": {},
   "source": [
    "## Exploring the images and masks folders"
   ]
  },
  {
   "cell_type": "code",
   "execution_count": null,
   "id": "12c76f16",
   "metadata": {},
   "outputs": [],
   "source": [
    "import matplotlib.pyplot as plt\n",
    "import os\n",
    "import numpy as np"
   ]
  },
  {
   "cell_type": "code",
   "execution_count": null,
   "id": "ef41b9c9",
   "metadata": {},
   "outputs": [],
   "source": [
    "path_img = '/mount/src/data/Kvasir-SEG/images/'\n",
    "fnames_img = [f for f in os.listdir(path_img) if '.jpg' in f]\n",
    "fnames_img[:3], len(fnames_img)"
   ]
  },
  {
   "cell_type": "code",
   "execution_count": null,
   "id": "11716851",
   "metadata": {},
   "outputs": [],
   "source": [
    "path_msk = '/mount/src/data/Kvasir-SEG/masks/'\n",
    "fnames_msk = [f for f in os.listdir(path_msk) if '.jpg' in f]\n",
    "fnames_msk[:3], len(fnames_msk)"
   ]
  },
  {
   "cell_type": "code",
   "execution_count": null,
   "id": "6ed09655",
   "metadata": {},
   "outputs": [],
   "source": [
    "# image <=> mask matching\n",
    "i = 0\n",
    "for fname in fnames_img:\n",
    "    if fname in fnames_msk:\n",
    "        i += 1\n",
    "i"
   ]
  },
  {
   "cell_type": "markdown",
   "id": "319ab425",
   "metadata": {},
   "source": [
    "### Datalist\n",
    "Make a datalist for MONAI training."
   ]
  },
  {
   "cell_type": "code",
   "execution_count": null,
   "id": "4e19032d",
   "metadata": {},
   "outputs": [],
   "source": [
    "datalist = []\n",
    "for fname in fnames_img:\n",
    "    data = {'img': path_img+fname, 'seg': path_msk+fname}\n",
    "    datalist.append(data)\n",
    "datalist[:3]"
   ]
  },
  {
   "cell_type": "code",
   "execution_count": null,
   "id": "a47322cb",
   "metadata": {},
   "outputs": [],
   "source": [
    "np.save('datalist.npy', datalist)"
   ]
  },
  {
   "cell_type": "markdown",
   "id": "53ff6d97",
   "metadata": {},
   "source": [
    "## Preview"
   ]
  },
  {
   "cell_type": "code",
   "execution_count": null,
   "id": "7e08efe0",
   "metadata": {},
   "outputs": [],
   "source": [
    "fnames = fnames_img\n",
    "img = plt.imread(path_img+fnames[0])\n",
    "msk = plt.imread(path_msk+fnames[0])\n",
    "img.shape, msk.shape"
   ]
  },
  {
   "cell_type": "code",
   "execution_count": null,
   "id": "a9a2fb59",
   "metadata": {},
   "outputs": [],
   "source": [
    "img.mean(), img.std(), img.max(), img.min()"
   ]
  },
  {
   "cell_type": "code",
   "execution_count": null,
   "id": "43e090a2",
   "metadata": {},
   "outputs": [],
   "source": [
    "msk.mean(), msk.std(), msk.max(), msk.min()"
   ]
  },
  {
   "cell_type": "code",
   "execution_count": null,
   "id": "e0248be6",
   "metadata": {},
   "outputs": [],
   "source": [
    "plt.figure(figsize=(8, 4))\n",
    "plt.subplot(121)\n",
    "plt.imshow(img)\n",
    "plt.subplot(122)\n",
    "plt.imshow(msk)\n",
    "plt.show()"
   ]
  },
  {
   "cell_type": "code",
   "execution_count": null,
   "id": "5518d992",
   "metadata": {},
   "outputs": [],
   "source": [
    "msk[150, 300]"
   ]
  },
  {
   "cell_type": "markdown",
   "id": "f4801262",
   "metadata": {},
   "source": [
    "## Create preprocessing function for mask"
   ]
  },
  {
   "cell_type": "code",
   "execution_count": null,
   "id": "bbc4fc3f",
   "metadata": {},
   "outputs": [],
   "source": [
    "def convert_mask(mask):\n",
    "    mask = mask[..., 0]>100\n",
    "    return mask.astype('int')"
   ]
  },
  {
   "cell_type": "code",
   "execution_count": null,
   "id": "24c56669",
   "metadata": {},
   "outputs": [],
   "source": [
    "converted_mask = convert_mask(msk)\n",
    "converted_mask.shape, converted_mask.mean(), converted_mask.std(), converted_mask.max(), converted_mask.min()"
   ]
  },
  {
   "cell_type": "code",
   "execution_count": null,
   "id": "28bcc3bd",
   "metadata": {},
   "outputs": [],
   "source": [
    "plt.figure(figsize=(8, 4))\n",
    "plt.subplot(121)\n",
    "plt.imshow(img)\n",
    "plt.subplot(122)\n",
    "plt.imshow(converted_mask, cmap='gray')\n",
    "plt.show()"
   ]
  },
  {
   "cell_type": "code",
   "execution_count": null,
   "id": "8467a486",
   "metadata": {},
   "outputs": [],
   "source": []
  }
 ],
 "metadata": {
  "kernelspec": {
   "display_name": "Python 3 (ipykernel)",
   "language": "python",
   "name": "python3"
  },
  "language_info": {
   "codemirror_mode": {
    "name": "ipython",
    "version": 3
   },
   "file_extension": ".py",
   "mimetype": "text/x-python",
   "name": "python",
   "nbconvert_exporter": "python",
   "pygments_lexer": "ipython3",
   "version": "3.8.13"
  }
 },
 "nbformat": 4,
 "nbformat_minor": 5
}
