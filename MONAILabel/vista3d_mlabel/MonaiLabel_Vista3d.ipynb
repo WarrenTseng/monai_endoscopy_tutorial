{
 "cells": [
  {
   "cell_type": "markdown",
   "id": "08dc6c73-b75c-4edd-98d7-d44e553be047",
   "metadata": {},
   "source": [
    "## Download Monai Bundle App "
   ]
  },
  {
   "cell_type": "code",
   "execution_count": null,
   "id": "e5b78c6c-1db6-44ae-8c78-e2856828399e",
   "metadata": {},
   "outputs": [],
   "source": [
    "!monailabel apps --download --name monaibundle --output workspace"
   ]
  },
  {
   "cell_type": "markdown",
   "id": "f9d8521a-081c-481b-a9fd-d273e8257a83",
   "metadata": {},
   "source": [
    "## Download Vista3D Bundle"
   ]
  },
  {
   "cell_type": "code",
   "execution_count": null,
   "id": "5343db23-5d6d-43ba-afc7-b9d31fd7f448",
   "metadata": {},
   "outputs": [],
   "source": [
    "!wget https://api.ngc.nvidia.com/v2/models/nvidia/monaihosting/vista3d/versions/0.5.7/files/vista3d_v0.5.7.zip"
   ]
  },
  {
   "cell_type": "markdown",
   "id": "2e214093-4cb4-4dd3-b27a-145bdab35edf",
   "metadata": {},
   "source": [
    "## Preparing the Vista3D model"
   ]
  },
  {
   "cell_type": "code",
   "execution_count": null,
   "id": "150ae8f5-948f-4951-9bc4-ac5dfeac2d44",
   "metadata": {},
   "outputs": [],
   "source": [
    "!unzip vista3d_v0.5.7.zip"
   ]
  },
  {
   "cell_type": "code",
   "execution_count": null,
   "id": "84367959-c1d3-44f7-879e-033174f11ea5",
   "metadata": {},
   "outputs": [],
   "source": [
    "!mv vista3d workspace/monaibundle/model/vista3d"
   ]
  },
  {
   "cell_type": "code",
   "execution_count": null,
   "id": "a27f34e2-1e6b-4d1c-b44f-c4ba712d0c3d",
   "metadata": {},
   "outputs": [],
   "source": [
    "!cp inference.json workspace/monaibundle/model/vista3d/configs/\n",
    "!cp inferer.py workspace/monaibundle/model/vista3d/scripts/"
   ]
  },
  {
   "cell_type": "markdown",
   "id": "d2d5cf4e-a279-4c79-a55a-f7df7e7b4e2d",
   "metadata": {},
   "source": [
    "## Start Server"
   ]
  },
  {
   "cell_type": "code",
   "execution_count": null,
   "id": "851e377f-c58f-4aa0-b312-5f5c505f0e18",
   "metadata": {},
   "outputs": [],
   "source": [
    "!monailabel start_server -i 0.0.0.0 -p 5000 \\\n",
    "    --app workspace/monaibundle --studies workspace/images --conf models vista3d"
   ]
  },
  {
   "cell_type": "code",
   "execution_count": null,
   "id": "c5fecbba-de27-443d-87b0-fbe9301fed2d",
   "metadata": {},
   "outputs": [],
   "source": []
  }
 ],
 "metadata": {
  "kernelspec": {
   "display_name": "Python 3 (ipykernel)",
   "language": "python",
   "name": "python3"
  },
  "language_info": {
   "codemirror_mode": {
    "name": "ipython",
    "version": 3
   },
   "file_extension": ".py",
   "mimetype": "text/x-python",
   "name": "python",
   "nbconvert_exporter": "python",
   "pygments_lexer": "ipython3",
   "version": "3.10.12"
  }
 },
 "nbformat": 4,
 "nbformat_minor": 5
}
