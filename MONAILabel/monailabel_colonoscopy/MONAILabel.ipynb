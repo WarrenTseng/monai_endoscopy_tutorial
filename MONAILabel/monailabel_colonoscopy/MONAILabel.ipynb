{
 "cells": [
  {
   "cell_type": "code",
   "execution_count": null,
   "id": "cf72f3c9",
   "metadata": {},
   "outputs": [],
   "source": [
    "import monailabel\n",
    "import monai\n",
    "\n",
    "assert monailabel.__version__=='0.4.dev2213'\n",
    "assert monai.__version__=='0.8.1'"
   ]
  },
  {
   "cell_type": "markdown",
   "id": "2d95382e",
   "metadata": {},
   "source": [
    "### Replace /your/pythonlib/path/of/monai/losses/dice.py with the provided dice.py"
   ]
  },
  {
   "cell_type": "code",
   "execution_count": null,
   "id": "ab614dc5",
   "metadata": {},
   "outputs": [],
   "source": [
    "# !find / -name dice.py"
   ]
  },
  {
   "cell_type": "code",
   "execution_count": null,
   "id": "94a4646a",
   "metadata": {},
   "outputs": [],
   "source": [
    "!cp dice.py /opt/conda/lib/python3.8/site-packages/monai/losses/dice.py"
   ]
  },
  {
   "cell_type": "markdown",
   "id": "a2529385",
   "metadata": {},
   "source": [
    "### Replace /your/pythonlib/path/of/monailabel/deepedit/multilabel/transforms.py with the provided transforms.py"
   ]
  },
  {
   "cell_type": "code",
   "execution_count": null,
   "id": "6414608b",
   "metadata": {},
   "outputs": [],
   "source": [
    "# !find / -name transforms.py"
   ]
  },
  {
   "cell_type": "code",
   "execution_count": null,
   "id": "e81bbe1a",
   "metadata": {},
   "outputs": [],
   "source": [
    "!cp transforms.py /opt/conda/lib/python3.8/site-packages/monailabel/deepedit/multilabel/transforms.py"
   ]
  },
  {
   "cell_type": "markdown",
   "id": "bdb59dd9",
   "metadata": {},
   "source": [
    "### Start the MONAI Label server with colonoscopy_app"
   ]
  },
  {
   "cell_type": "code",
   "execution_count": null,
   "id": "af646585",
   "metadata": {
    "scrolled": true
   },
   "outputs": [],
   "source": [
    "!monailabel start_server --app colonoscopy_app --studies colonoscopy_samples/ --port 8004 --conf models segmentation"
   ]
  },
  {
   "cell_type": "code",
   "execution_count": null,
   "id": "d52f639f",
   "metadata": {},
   "outputs": [],
   "source": [
    "# reset annotated data\n",
    "# !rm -r colonoscopy_samples/labels/ colonoscopy_samples/datastore_v2.json"
   ]
  },
  {
   "cell_type": "code",
   "execution_count": null,
   "id": "066a9511",
   "metadata": {},
   "outputs": [],
   "source": [
    "# reset re-trained model\n",
    "# !rm -r colonoscopy_app/model/train_01/ colonoscopy_app/model/train_stats.json colonoscopy_app/model/segmentation_PraNet-19.pt"
   ]
  },
  {
   "cell_type": "code",
   "execution_count": null,
   "id": "846107f7",
   "metadata": {},
   "outputs": [],
   "source": []
  }
 ],
 "metadata": {
  "kernelspec": {
   "display_name": "Python 3 (ipykernel)",
   "language": "python",
   "name": "python3"
  },
  "language_info": {
   "codemirror_mode": {
    "name": "ipython",
    "version": 3
   },
   "file_extension": ".py",
   "mimetype": "text/x-python",
   "name": "python",
   "nbconvert_exporter": "python",
   "pygments_lexer": "ipython3",
   "version": "3.8.13"
  }
 },
 "nbformat": 4,
 "nbformat_minor": 5
}
